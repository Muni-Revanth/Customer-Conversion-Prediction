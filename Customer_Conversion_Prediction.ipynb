{
 "cells": [
  {
   "cell_type": "markdown",
   "id": "ca97b2d4",
   "metadata": {},
   "source": [
    "# Customer Conversion Prediction"
   ]
  },
  {
   "cell_type": "markdown",
   "id": "b6eed087",
   "metadata": {},
   "source": [
    "# Importing Necessary Libraries"
   ]
  },
  {
   "cell_type": "code",
   "execution_count": 1,
   "id": "9764eb24",
   "metadata": {},
   "outputs": [],
   "source": [
    "import pandas as pd\n",
    "import numpy as np\n",
    "import matplotlib.pyplot as plt\n",
    "import seaborn as sns\n",
    "from sklearn.model_selection import train_test_split, cross_val_score, GridSearchCV, StratifiedKFold\n",
    "from imblearn.combine import SMOTEENN\n",
    "from sklearn.linear_model import LogisticRegression\n",
    "from sklearn.metrics import roc_auc_score\n",
    "from sklearn.metrics import accuracy_score\n",
    "from sklearn.neighbors import KNeighborsClassifier\n",
    "from sklearn.tree import DecisionTreeClassifier\n",
    "from sklearn.metrics import confusion_matrix\n",
    "from sklearn.ensemble import RandomForestClassifier\n",
    "import xgboost as xgb\n",
    "from sklearn.ensemble import VotingClassifier\n",
    "from sklearn import tree\n",
    "from imblearn.pipeline import Pipeline as imbpipeline\n",
    "from sklearn.pipeline import Pipeline\n",
    "from xgboost import XGBClassifier\n",
    "from itertools import combinations\n",
    "import streamlit as st\n",
    "import pickle"
   ]
  },
  {
   "cell_type": "markdown",
   "id": "bdcf5926",
   "metadata": {},
   "source": [
    "# Dataset"
   ]
  },
  {
   "cell_type": "code",
   "execution_count": 2,
   "id": "92b32c03",
   "metadata": {
    "id": "4AD3A_mFujzT"
   },
   "outputs": [],
   "source": [
    "df = pd.read_csv(\"C:\\\\Users\\\\Revanth\\\\Desktop\\\\train.csv\")"
   ]
  },
  {
   "cell_type": "code",
   "execution_count": 3,
   "id": "9c415287",
   "metadata": {
    "scrolled": true
   },
   "outputs": [
    {
     "data": {
      "text/html": [
       "<div>\n",
       "<style scoped>\n",
       "    .dataframe tbody tr th:only-of-type {\n",
       "        vertical-align: middle;\n",
       "    }\n",
       "\n",
       "    .dataframe tbody tr th {\n",
       "        vertical-align: top;\n",
       "    }\n",
       "\n",
       "    .dataframe thead th {\n",
       "        text-align: right;\n",
       "    }\n",
       "</style>\n",
       "<table border=\"1\" class=\"dataframe\">\n",
       "  <thead>\n",
       "    <tr style=\"text-align: right;\">\n",
       "      <th></th>\n",
       "      <th>age</th>\n",
       "      <th>job</th>\n",
       "      <th>marital</th>\n",
       "      <th>education_qual</th>\n",
       "      <th>call_type</th>\n",
       "      <th>day</th>\n",
       "      <th>mon</th>\n",
       "      <th>dur</th>\n",
       "      <th>num_calls</th>\n",
       "      <th>prev_outcome</th>\n",
       "      <th>y</th>\n",
       "    </tr>\n",
       "  </thead>\n",
       "  <tbody>\n",
       "    <tr>\n",
       "      <th>0</th>\n",
       "      <td>58</td>\n",
       "      <td>management</td>\n",
       "      <td>married</td>\n",
       "      <td>tertiary</td>\n",
       "      <td>unknown</td>\n",
       "      <td>5</td>\n",
       "      <td>may</td>\n",
       "      <td>261</td>\n",
       "      <td>1</td>\n",
       "      <td>unknown</td>\n",
       "      <td>no</td>\n",
       "    </tr>\n",
       "    <tr>\n",
       "      <th>1</th>\n",
       "      <td>44</td>\n",
       "      <td>technician</td>\n",
       "      <td>single</td>\n",
       "      <td>secondary</td>\n",
       "      <td>unknown</td>\n",
       "      <td>5</td>\n",
       "      <td>may</td>\n",
       "      <td>151</td>\n",
       "      <td>1</td>\n",
       "      <td>unknown</td>\n",
       "      <td>no</td>\n",
       "    </tr>\n",
       "    <tr>\n",
       "      <th>2</th>\n",
       "      <td>33</td>\n",
       "      <td>entrepreneur</td>\n",
       "      <td>married</td>\n",
       "      <td>secondary</td>\n",
       "      <td>unknown</td>\n",
       "      <td>5</td>\n",
       "      <td>may</td>\n",
       "      <td>76</td>\n",
       "      <td>1</td>\n",
       "      <td>unknown</td>\n",
       "      <td>no</td>\n",
       "    </tr>\n",
       "    <tr>\n",
       "      <th>3</th>\n",
       "      <td>47</td>\n",
       "      <td>blue-collar</td>\n",
       "      <td>married</td>\n",
       "      <td>unknown</td>\n",
       "      <td>unknown</td>\n",
       "      <td>5</td>\n",
       "      <td>may</td>\n",
       "      <td>92</td>\n",
       "      <td>1</td>\n",
       "      <td>unknown</td>\n",
       "      <td>no</td>\n",
       "    </tr>\n",
       "    <tr>\n",
       "      <th>4</th>\n",
       "      <td>33</td>\n",
       "      <td>unknown</td>\n",
       "      <td>single</td>\n",
       "      <td>unknown</td>\n",
       "      <td>unknown</td>\n",
       "      <td>5</td>\n",
       "      <td>may</td>\n",
       "      <td>198</td>\n",
       "      <td>1</td>\n",
       "      <td>unknown</td>\n",
       "      <td>no</td>\n",
       "    </tr>\n",
       "  </tbody>\n",
       "</table>\n",
       "</div>"
      ],
      "text/plain": [
       "   age           job  marital education_qual call_type  day  mon  dur  \\\n",
       "0   58    management  married       tertiary   unknown    5  may  261   \n",
       "1   44    technician   single      secondary   unknown    5  may  151   \n",
       "2   33  entrepreneur  married      secondary   unknown    5  may   76   \n",
       "3   47   blue-collar  married        unknown   unknown    5  may   92   \n",
       "4   33       unknown   single        unknown   unknown    5  may  198   \n",
       "\n",
       "   num_calls prev_outcome   y  \n",
       "0          1      unknown  no  \n",
       "1          1      unknown  no  \n",
       "2          1      unknown  no  \n",
       "3          1      unknown  no  \n",
       "4          1      unknown  no  "
      ]
     },
     "execution_count": 3,
     "metadata": {},
     "output_type": "execute_result"
    }
   ],
   "source": [
    "df.head()"
   ]
  },
  {
   "cell_type": "markdown",
   "id": "9810431e",
   "metadata": {},
   "source": [
    "# Data Cleaning"
   ]
  },
  {
   "cell_type": "code",
   "execution_count": 4,
   "id": "a6248845",
   "metadata": {
    "colab": {
     "base_uri": "https://localhost:8080/"
    },
    "id": "yRlu7q_ixPAO",
    "outputId": "d3c34c02-16ae-47c7-a93a-d816c59d8df7"
   },
   "outputs": [
    {
     "data": {
      "text/plain": [
       "(45211, 11)"
      ]
     },
     "execution_count": 4,
     "metadata": {},
     "output_type": "execute_result"
    }
   ],
   "source": [
    "df.shape"
   ]
  },
  {
   "cell_type": "code",
   "execution_count": 5,
   "id": "5c37c356",
   "metadata": {},
   "outputs": [
    {
     "data": {
      "text/plain": [
       "array([58, 44, 33, 47, 35, 28, 42, 43, 41, 29, 53, 57, 51, 45, 60, 56, 32,\n",
       "       25, 40, 39, 52, 46, 36, 49, 59, 37, 50, 54, 55, 48, 24, 38, 31, 30,\n",
       "       27, 34, 23, 26, 61, 22, 21, 20, 66, 62, 83, 75, 67, 70, 65, 68, 64,\n",
       "       69, 72, 71, 19, 76, 85, 63, 90, 82, 73, 74, 78, 80, 94, 79, 77, 86,\n",
       "       95, 81, 18, 89, 84, 87, 92, 93, 88], dtype=int64)"
      ]
     },
     "execution_count": 5,
     "metadata": {},
     "output_type": "execute_result"
    }
   ],
   "source": [
    "df[\"age\"].unique()"
   ]
  },
  {
   "cell_type": "code",
   "execution_count": 6,
   "id": "2de1b0b7",
   "metadata": {},
   "outputs": [
    {
     "data": {
      "text/plain": [
       "array(['management', 'technician', 'entrepreneur', 'blue-collar',\n",
       "       'unknown', 'retired', 'admin.', 'services', 'self-employed',\n",
       "       'unemployed', 'housemaid', 'student'], dtype=object)"
      ]
     },
     "execution_count": 6,
     "metadata": {},
     "output_type": "execute_result"
    }
   ],
   "source": [
    "df[\"job\"].unique()"
   ]
  },
  {
   "cell_type": "code",
   "execution_count": 7,
   "id": "75c61e41",
   "metadata": {},
   "outputs": [
    {
     "data": {
      "text/plain": [
       "array(['married', 'single', 'divorced'], dtype=object)"
      ]
     },
     "execution_count": 7,
     "metadata": {},
     "output_type": "execute_result"
    }
   ],
   "source": [
    "df[\"marital\"].unique()"
   ]
  },
  {
   "cell_type": "code",
   "execution_count": 8,
   "id": "74029aad",
   "metadata": {},
   "outputs": [
    {
     "data": {
      "text/plain": [
       "array(['tertiary', 'secondary', 'unknown', 'primary'], dtype=object)"
      ]
     },
     "execution_count": 8,
     "metadata": {},
     "output_type": "execute_result"
    }
   ],
   "source": [
    "df[\"education_qual\"].unique()"
   ]
  },
  {
   "cell_type": "code",
   "execution_count": 9,
   "id": "0983a387",
   "metadata": {},
   "outputs": [
    {
     "data": {
      "text/plain": [
       "array(['unknown', 'cellular', 'telephone'], dtype=object)"
      ]
     },
     "execution_count": 9,
     "metadata": {},
     "output_type": "execute_result"
    }
   ],
   "source": [
    "df[\"call_type\"].unique()"
   ]
  },
  {
   "cell_type": "code",
   "execution_count": 10,
   "id": "808fb622",
   "metadata": {},
   "outputs": [
    {
     "data": {
      "text/plain": [
       "array([ 5,  6,  7,  8,  9, 12, 13, 14, 15, 16, 19, 20, 21, 23, 26, 27, 28,\n",
       "       29, 30,  2,  3,  4, 11, 17, 18, 24, 25,  1, 10, 22, 31],\n",
       "      dtype=int64)"
      ]
     },
     "execution_count": 10,
     "metadata": {},
     "output_type": "execute_result"
    }
   ],
   "source": [
    "df[\"day\"].unique()"
   ]
  },
  {
   "cell_type": "code",
   "execution_count": 11,
   "id": "a6d9020c",
   "metadata": {},
   "outputs": [
    {
     "data": {
      "text/plain": [
       "array(['may', 'jun', 'jul', 'aug', 'oct', 'nov', 'dec', 'jan', 'feb',\n",
       "       'mar', 'apr', 'sep'], dtype=object)"
      ]
     },
     "execution_count": 11,
     "metadata": {},
     "output_type": "execute_result"
    }
   ],
   "source": [
    "df[\"mon\"].unique()"
   ]
  },
  {
   "cell_type": "code",
   "execution_count": 12,
   "id": "f9b0a034",
   "metadata": {},
   "outputs": [
    {
     "data": {
      "text/plain": [
       "array([ 261,  151,   76, ..., 1298, 1246, 1556], dtype=int64)"
      ]
     },
     "execution_count": 12,
     "metadata": {},
     "output_type": "execute_result"
    }
   ],
   "source": [
    "df[\"dur\"].unique()"
   ]
  },
  {
   "cell_type": "code",
   "execution_count": 13,
   "id": "b54f5a4f",
   "metadata": {},
   "outputs": [
    {
     "data": {
      "text/plain": [
       "array([ 1,  2,  3,  5,  4,  6,  7,  8,  9, 10, 11, 12, 13, 19, 14, 24, 16,\n",
       "       32, 18, 22, 15, 17, 25, 21, 43, 51, 63, 41, 26, 28, 55, 50, 38, 23,\n",
       "       20, 29, 31, 37, 30, 46, 27, 58, 33, 35, 34, 36, 39, 44],\n",
       "      dtype=int64)"
      ]
     },
     "execution_count": 13,
     "metadata": {},
     "output_type": "execute_result"
    }
   ],
   "source": [
    "df[\"num_calls\"].unique()"
   ]
  },
  {
   "cell_type": "code",
   "execution_count": 14,
   "id": "7a2be6ab",
   "metadata": {},
   "outputs": [
    {
     "data": {
      "text/plain": [
       "array(['unknown', 'failure', 'other', 'success'], dtype=object)"
      ]
     },
     "execution_count": 14,
     "metadata": {},
     "output_type": "execute_result"
    }
   ],
   "source": [
    "df['prev_outcome'].unique()"
   ]
  },
  {
   "cell_type": "code",
   "execution_count": 15,
   "id": "bdd504b9",
   "metadata": {},
   "outputs": [],
   "source": [
    "df = df.drop_duplicates()"
   ]
  },
  {
   "cell_type": "code",
   "execution_count": 16,
   "id": "2bd563e3",
   "metadata": {},
   "outputs": [
    {
     "data": {
      "text/plain": [
       "secondary    23199\n",
       "tertiary     13299\n",
       "primary       6850\n",
       "unknown       1857\n",
       "Name: education_qual, dtype: int64"
      ]
     },
     "execution_count": 16,
     "metadata": {},
     "output_type": "execute_result"
    }
   ],
   "source": [
    "df[\"education_qual\"].value_counts()"
   ]
  },
  {
   "cell_type": "code",
   "execution_count": 17,
   "id": "13370f93",
   "metadata": {},
   "outputs": [],
   "source": [
    "df[\"education_qual\"] = df[\"education_qual\"].replace(\"unknown\",df[\"education_qual\"].mode()[0])"
   ]
  },
  {
   "cell_type": "code",
   "execution_count": 18,
   "id": "a2805dd1",
   "metadata": {},
   "outputs": [
    {
     "data": {
      "text/plain": [
       "secondary    25056\n",
       "tertiary     13299\n",
       "primary       6850\n",
       "Name: education_qual, dtype: int64"
      ]
     },
     "execution_count": 18,
     "metadata": {},
     "output_type": "execute_result"
    }
   ],
   "source": [
    "df[\"education_qual\"].value_counts()"
   ]
  },
  {
   "cell_type": "code",
   "execution_count": 19,
   "id": "f225143d",
   "metadata": {},
   "outputs": [
    {
     "data": {
      "text/plain": [
       "blue-collar      9730\n",
       "management       9457\n",
       "technician       7596\n",
       "admin.           5170\n",
       "services         4153\n",
       "retired          2264\n",
       "self-employed    1579\n",
       "entrepreneur     1487\n",
       "unemployed       1303\n",
       "housemaid        1240\n",
       "student           938\n",
       "unknown           288\n",
       "Name: job, dtype: int64"
      ]
     },
     "execution_count": 19,
     "metadata": {},
     "output_type": "execute_result"
    }
   ],
   "source": [
    "df.job.value_counts()"
   ]
  },
  {
   "cell_type": "code",
   "execution_count": 20,
   "id": "a24b36b9",
   "metadata": {},
   "outputs": [],
   "source": [
    "df[\"job\"]=df[\"job\"].replace(\"unknown\",df[\"job\"].mode()[0])"
   ]
  },
  {
   "cell_type": "code",
   "execution_count": 21,
   "id": "b718269a",
   "metadata": {},
   "outputs": [
    {
     "data": {
      "text/plain": [
       "blue-collar      10018\n",
       "management        9457\n",
       "technician        7596\n",
       "admin.            5170\n",
       "services          4153\n",
       "retired           2264\n",
       "self-employed     1579\n",
       "entrepreneur      1487\n",
       "unemployed        1303\n",
       "housemaid         1240\n",
       "student            938\n",
       "Name: job, dtype: int64"
      ]
     },
     "execution_count": 21,
     "metadata": {},
     "output_type": "execute_result"
    }
   ],
   "source": [
    "df.job.value_counts()"
   ]
  },
  {
   "cell_type": "code",
   "execution_count": 22,
   "id": "41e2dfdd",
   "metadata": {
    "scrolled": true
   },
   "outputs": [
    {
     "data": {
      "text/plain": [
       "married     27210\n",
       "single      12788\n",
       "divorced     5207\n",
       "Name: marital, dtype: int64"
      ]
     },
     "execution_count": 22,
     "metadata": {},
     "output_type": "execute_result"
    }
   ],
   "source": [
    "df.marital.value_counts()"
   ]
  },
  {
   "cell_type": "code",
   "execution_count": 23,
   "id": "7f68a071",
   "metadata": {},
   "outputs": [
    {
     "data": {
      "text/plain": [
       "cellular     29282\n",
       "unknown      13017\n",
       "telephone     2906\n",
       "Name: call_type, dtype: int64"
      ]
     },
     "execution_count": 23,
     "metadata": {},
     "output_type": "execute_result"
    }
   ],
   "source": [
    "df.call_type.value_counts()"
   ]
  },
  {
   "cell_type": "code",
   "execution_count": 24,
   "id": "2b3ad7c3",
   "metadata": {},
   "outputs": [
    {
     "data": {
      "text/plain": [
       "may    13765\n",
       "jul     6894\n",
       "aug     6245\n",
       "jun     5339\n",
       "nov     3970\n",
       "apr     2932\n",
       "feb     2649\n",
       "jan     1403\n",
       "oct      738\n",
       "sep      579\n",
       "mar      477\n",
       "dec      214\n",
       "Name: mon, dtype: int64"
      ]
     },
     "execution_count": 24,
     "metadata": {},
     "output_type": "execute_result"
    }
   ],
   "source": [
    "df.mon.value_counts()"
   ]
  },
  {
   "cell_type": "code",
   "execution_count": 25,
   "id": "a47b55af",
   "metadata": {},
   "outputs": [
    {
     "data": {
      "text/plain": [
       "unknown    36953\n",
       "failure     4901\n",
       "other       1840\n",
       "success     1511\n",
       "Name: prev_outcome, dtype: int64"
      ]
     },
     "execution_count": 25,
     "metadata": {},
     "output_type": "execute_result"
    }
   ],
   "source": [
    "df.prev_outcome.value_counts()"
   ]
  },
  {
   "cell_type": "code",
   "execution_count": 26,
   "id": "d06b51e4",
   "metadata": {},
   "outputs": [
    {
     "data": {
      "text/plain": [
       "no     39916\n",
       "yes     5289\n",
       "Name: y, dtype: int64"
      ]
     },
     "execution_count": 26,
     "metadata": {},
     "output_type": "execute_result"
    }
   ],
   "source": [
    "df.y.value_counts()"
   ]
  },
  {
   "cell_type": "code",
   "execution_count": 27,
   "id": "6a407992",
   "metadata": {},
   "outputs": [
    {
     "data": {
      "text/plain": [
       "age               0\n",
       "job               0\n",
       "marital           0\n",
       "education_qual    0\n",
       "call_type         0\n",
       "day               0\n",
       "mon               0\n",
       "dur               0\n",
       "num_calls         0\n",
       "prev_outcome      0\n",
       "y                 0\n",
       "dtype: int64"
      ]
     },
     "execution_count": 27,
     "metadata": {},
     "output_type": "execute_result"
    }
   ],
   "source": [
    "df.isnull().sum()"
   ]
  },
  {
   "cell_type": "code",
   "execution_count": 28,
   "id": "32e1fbf0",
   "metadata": {
    "scrolled": true
   },
   "outputs": [
    {
     "data": {
      "text/plain": [
       "(45205, 11)"
      ]
     },
     "execution_count": 28,
     "metadata": {},
     "output_type": "execute_result"
    }
   ],
   "source": [
    "df.shape"
   ]
  },
  {
   "cell_type": "code",
   "execution_count": 29,
   "id": "9f5e4e4d",
   "metadata": {
    "scrolled": true
   },
   "outputs": [
    {
     "data": {
      "text/html": [
       "<div>\n",
       "<style scoped>\n",
       "    .dataframe tbody tr th:only-of-type {\n",
       "        vertical-align: middle;\n",
       "    }\n",
       "\n",
       "    .dataframe tbody tr th {\n",
       "        vertical-align: top;\n",
       "    }\n",
       "\n",
       "    .dataframe thead th {\n",
       "        text-align: right;\n",
       "    }\n",
       "</style>\n",
       "<table border=\"1\" class=\"dataframe\">\n",
       "  <thead>\n",
       "    <tr style=\"text-align: right;\">\n",
       "      <th></th>\n",
       "      <th>age</th>\n",
       "      <th>day</th>\n",
       "      <th>dur</th>\n",
       "      <th>num_calls</th>\n",
       "    </tr>\n",
       "  </thead>\n",
       "  <tbody>\n",
       "    <tr>\n",
       "      <th>count</th>\n",
       "      <td>45205.000000</td>\n",
       "      <td>45205.00000</td>\n",
       "      <td>45205.000000</td>\n",
       "      <td>45205.000000</td>\n",
       "    </tr>\n",
       "    <tr>\n",
       "      <th>mean</th>\n",
       "      <td>40.937087</td>\n",
       "      <td>15.80688</td>\n",
       "      <td>258.183055</td>\n",
       "      <td>2.763898</td>\n",
       "    </tr>\n",
       "    <tr>\n",
       "      <th>std</th>\n",
       "      <td>10.619130</td>\n",
       "      <td>8.32234</td>\n",
       "      <td>257.538504</td>\n",
       "      <td>3.098189</td>\n",
       "    </tr>\n",
       "    <tr>\n",
       "      <th>min</th>\n",
       "      <td>18.000000</td>\n",
       "      <td>1.00000</td>\n",
       "      <td>0.000000</td>\n",
       "      <td>1.000000</td>\n",
       "    </tr>\n",
       "    <tr>\n",
       "      <th>25%</th>\n",
       "      <td>33.000000</td>\n",
       "      <td>8.00000</td>\n",
       "      <td>103.000000</td>\n",
       "      <td>1.000000</td>\n",
       "    </tr>\n",
       "    <tr>\n",
       "      <th>50%</th>\n",
       "      <td>39.000000</td>\n",
       "      <td>16.00000</td>\n",
       "      <td>180.000000</td>\n",
       "      <td>2.000000</td>\n",
       "    </tr>\n",
       "    <tr>\n",
       "      <th>75%</th>\n",
       "      <td>48.000000</td>\n",
       "      <td>21.00000</td>\n",
       "      <td>319.000000</td>\n",
       "      <td>3.000000</td>\n",
       "    </tr>\n",
       "    <tr>\n",
       "      <th>max</th>\n",
       "      <td>95.000000</td>\n",
       "      <td>31.00000</td>\n",
       "      <td>4918.000000</td>\n",
       "      <td>63.000000</td>\n",
       "    </tr>\n",
       "  </tbody>\n",
       "</table>\n",
       "</div>"
      ],
      "text/plain": [
       "                age          day           dur     num_calls\n",
       "count  45205.000000  45205.00000  45205.000000  45205.000000\n",
       "mean      40.937087     15.80688    258.183055      2.763898\n",
       "std       10.619130      8.32234    257.538504      3.098189\n",
       "min       18.000000      1.00000      0.000000      1.000000\n",
       "25%       33.000000      8.00000    103.000000      1.000000\n",
       "50%       39.000000     16.00000    180.000000      2.000000\n",
       "75%       48.000000     21.00000    319.000000      3.000000\n",
       "max       95.000000     31.00000   4918.000000     63.000000"
      ]
     },
     "execution_count": 29,
     "metadata": {},
     "output_type": "execute_result"
    }
   ],
   "source": [
    "df.describe()"
   ]
  },
  {
   "cell_type": "code",
   "execution_count": 30,
   "id": "4dce66e7",
   "metadata": {},
   "outputs": [
    {
     "data": {
      "text/plain": [
       "(643.0, -221.0)"
      ]
     },
     "execution_count": 30,
     "metadata": {},
     "output_type": "execute_result"
    }
   ],
   "source": [
    "IQR = df[\"dur\"].quantile(0.75)-df[\"dur\"].quantile(0.25)\n",
    "UL = df.dur.quantile(0.75) + (1.5*IQR)\n",
    "LL = df.dur.quantile(0.25) - (1.5*IQR)\n",
    "UL, LL"
   ]
  },
  {
   "cell_type": "code",
   "execution_count": 31,
   "id": "9728bd1b",
   "metadata": {},
   "outputs": [],
   "source": [
    "df.dur = df.dur.clip(LL, UL)"
   ]
  },
  {
   "cell_type": "code",
   "execution_count": 32,
   "id": "e74a33cb",
   "metadata": {},
   "outputs": [
    {
     "data": {
      "text/plain": [
       "(6.0, -2.0)"
      ]
     },
     "execution_count": 32,
     "metadata": {},
     "output_type": "execute_result"
    }
   ],
   "source": [
    "IQR = df[\"num_calls\"].quantile(0.75)-df[\"num_calls\"].quantile(0.25)\n",
    "UL = df.num_calls.quantile(0.75) + (1.5*IQR)\n",
    "LL = df.num_calls.quantile(0.25) - (1.5*IQR)\n",
    "UL, LL"
   ]
  },
  {
   "cell_type": "code",
   "execution_count": 33,
   "id": "13212eb0",
   "metadata": {},
   "outputs": [],
   "source": [
    "df.num_calls = df.num_calls.clip(LL, UL)"
   ]
  },
  {
   "cell_type": "code",
   "execution_count": 34,
   "id": "eaf980d4",
   "metadata": {
    "scrolled": false
   },
   "outputs": [
    {
     "data": {
      "text/html": [
       "<div>\n",
       "<style scoped>\n",
       "    .dataframe tbody tr th:only-of-type {\n",
       "        vertical-align: middle;\n",
       "    }\n",
       "\n",
       "    .dataframe tbody tr th {\n",
       "        vertical-align: top;\n",
       "    }\n",
       "\n",
       "    .dataframe thead th {\n",
       "        text-align: right;\n",
       "    }\n",
       "</style>\n",
       "<table border=\"1\" class=\"dataframe\">\n",
       "  <thead>\n",
       "    <tr style=\"text-align: right;\">\n",
       "      <th></th>\n",
       "      <th>age</th>\n",
       "      <th>day</th>\n",
       "      <th>dur</th>\n",
       "      <th>num_calls</th>\n",
       "    </tr>\n",
       "  </thead>\n",
       "  <tbody>\n",
       "    <tr>\n",
       "      <th>count</th>\n",
       "      <td>45205.000000</td>\n",
       "      <td>45205.00000</td>\n",
       "      <td>45205.00000</td>\n",
       "      <td>45205.000000</td>\n",
       "    </tr>\n",
       "    <tr>\n",
       "      <th>mean</th>\n",
       "      <td>40.937087</td>\n",
       "      <td>15.80688</td>\n",
       "      <td>234.95620</td>\n",
       "      <td>2.392235</td>\n",
       "    </tr>\n",
       "    <tr>\n",
       "      <th>std</th>\n",
       "      <td>10.619130</td>\n",
       "      <td>8.32234</td>\n",
       "      <td>176.75476</td>\n",
       "      <td>1.600152</td>\n",
       "    </tr>\n",
       "    <tr>\n",
       "      <th>min</th>\n",
       "      <td>18.000000</td>\n",
       "      <td>1.00000</td>\n",
       "      <td>0.00000</td>\n",
       "      <td>1.000000</td>\n",
       "    </tr>\n",
       "    <tr>\n",
       "      <th>25%</th>\n",
       "      <td>33.000000</td>\n",
       "      <td>8.00000</td>\n",
       "      <td>103.00000</td>\n",
       "      <td>1.000000</td>\n",
       "    </tr>\n",
       "    <tr>\n",
       "      <th>50%</th>\n",
       "      <td>39.000000</td>\n",
       "      <td>16.00000</td>\n",
       "      <td>180.00000</td>\n",
       "      <td>2.000000</td>\n",
       "    </tr>\n",
       "    <tr>\n",
       "      <th>75%</th>\n",
       "      <td>48.000000</td>\n",
       "      <td>21.00000</td>\n",
       "      <td>319.00000</td>\n",
       "      <td>3.000000</td>\n",
       "    </tr>\n",
       "    <tr>\n",
       "      <th>max</th>\n",
       "      <td>95.000000</td>\n",
       "      <td>31.00000</td>\n",
       "      <td>643.00000</td>\n",
       "      <td>6.000000</td>\n",
       "    </tr>\n",
       "  </tbody>\n",
       "</table>\n",
       "</div>"
      ],
      "text/plain": [
       "                age          day          dur     num_calls\n",
       "count  45205.000000  45205.00000  45205.00000  45205.000000\n",
       "mean      40.937087     15.80688    234.95620      2.392235\n",
       "std       10.619130      8.32234    176.75476      1.600152\n",
       "min       18.000000      1.00000      0.00000      1.000000\n",
       "25%       33.000000      8.00000    103.00000      1.000000\n",
       "50%       39.000000     16.00000    180.00000      2.000000\n",
       "75%       48.000000     21.00000    319.00000      3.000000\n",
       "max       95.000000     31.00000    643.00000      6.000000"
      ]
     },
     "execution_count": 34,
     "metadata": {},
     "output_type": "execute_result"
    }
   ],
   "source": [
    "df.describe()"
   ]
  },
  {
   "cell_type": "code",
   "execution_count": 35,
   "id": "9f6f63e4",
   "metadata": {},
   "outputs": [],
   "source": [
    "import warnings\n",
    "warnings.filterwarnings(\"ignore\")"
   ]
  },
  {
   "cell_type": "code",
   "execution_count": 36,
   "id": "8d4e2836",
   "metadata": {},
   "outputs": [],
   "source": [
    "df[\"target\"] = df[\"y\"].map({\"yes\":1, \"no\":0})"
   ]
  },
  {
   "cell_type": "code",
   "execution_count": 37,
   "id": "37b9e648",
   "metadata": {},
   "outputs": [
    {
     "data": {
      "text/plain": [
       "prev_outcome\n",
       "failure    0.126097\n",
       "other      0.166848\n",
       "success    0.647253\n",
       "unknown    0.091630\n",
       "Name: target, dtype: float64"
      ]
     },
     "execution_count": 37,
     "metadata": {},
     "output_type": "execute_result"
    }
   ],
   "source": [
    "df.groupby(\"prev_outcome\")[\"target\"].mean()"
   ]
  },
  {
   "cell_type": "code",
   "execution_count": 38,
   "id": "1f971709",
   "metadata": {
    "scrolled": true
   },
   "outputs": [
    {
     "name": "stdout",
     "output_type": "stream",
     "text": [
      "<class 'pandas.core.frame.DataFrame'>\n",
      "Int64Index: 45205 entries, 0 to 45210\n",
      "Data columns (total 12 columns):\n",
      " #   Column          Non-Null Count  Dtype \n",
      "---  ------          --------------  ----- \n",
      " 0   age             45205 non-null  int64 \n",
      " 1   job             45205 non-null  object\n",
      " 2   marital         45205 non-null  object\n",
      " 3   education_qual  45205 non-null  object\n",
      " 4   call_type       45205 non-null  object\n",
      " 5   day             45205 non-null  int64 \n",
      " 6   mon             45205 non-null  object\n",
      " 7   dur             45205 non-null  int64 \n",
      " 8   num_calls       45205 non-null  int64 \n",
      " 9   prev_outcome    45205 non-null  object\n",
      " 10  y               45205 non-null  object\n",
      " 11  target          45205 non-null  int64 \n",
      "dtypes: int64(5), object(7)\n",
      "memory usage: 4.5+ MB\n"
     ]
    }
   ],
   "source": [
    "df.info()"
   ]
  },
  {
   "cell_type": "code",
   "execution_count": 39,
   "id": "5c362409",
   "metadata": {},
   "outputs": [
    {
     "data": {
      "text/plain": [
       "age                int64\n",
       "job               object\n",
       "marital           object\n",
       "education_qual    object\n",
       "call_type         object\n",
       "day                int64\n",
       "mon               object\n",
       "dur                int64\n",
       "num_calls          int64\n",
       "prev_outcome      object\n",
       "y                 object\n",
       "target             int64\n",
       "dtype: object"
      ]
     },
     "execution_count": 39,
     "metadata": {},
     "output_type": "execute_result"
    }
   ],
   "source": [
    "df.dtypes"
   ]
  },
  {
   "cell_type": "code",
   "execution_count": 40,
   "id": "87585294",
   "metadata": {},
   "outputs": [
    {
     "data": {
      "text/html": [
       "<div>\n",
       "<style scoped>\n",
       "    .dataframe tbody tr th:only-of-type {\n",
       "        vertical-align: middle;\n",
       "    }\n",
       "\n",
       "    .dataframe tbody tr th {\n",
       "        vertical-align: top;\n",
       "    }\n",
       "\n",
       "    .dataframe thead th {\n",
       "        text-align: right;\n",
       "    }\n",
       "</style>\n",
       "<table border=\"1\" class=\"dataframe\">\n",
       "  <thead>\n",
       "    <tr style=\"text-align: right;\">\n",
       "      <th></th>\n",
       "      <th>age</th>\n",
       "      <th>job</th>\n",
       "      <th>marital</th>\n",
       "      <th>education_qual</th>\n",
       "      <th>call_type</th>\n",
       "      <th>day</th>\n",
       "      <th>mon</th>\n",
       "      <th>dur</th>\n",
       "      <th>num_calls</th>\n",
       "      <th>prev_outcome</th>\n",
       "      <th>y</th>\n",
       "      <th>target</th>\n",
       "    </tr>\n",
       "  </thead>\n",
       "  <tbody>\n",
       "    <tr>\n",
       "      <th>0</th>\n",
       "      <td>58</td>\n",
       "      <td>management</td>\n",
       "      <td>married</td>\n",
       "      <td>tertiary</td>\n",
       "      <td>unknown</td>\n",
       "      <td>5</td>\n",
       "      <td>may</td>\n",
       "      <td>261</td>\n",
       "      <td>1</td>\n",
       "      <td>unknown</td>\n",
       "      <td>no</td>\n",
       "      <td>0</td>\n",
       "    </tr>\n",
       "    <tr>\n",
       "      <th>1</th>\n",
       "      <td>44</td>\n",
       "      <td>technician</td>\n",
       "      <td>single</td>\n",
       "      <td>secondary</td>\n",
       "      <td>unknown</td>\n",
       "      <td>5</td>\n",
       "      <td>may</td>\n",
       "      <td>151</td>\n",
       "      <td>1</td>\n",
       "      <td>unknown</td>\n",
       "      <td>no</td>\n",
       "      <td>0</td>\n",
       "    </tr>\n",
       "    <tr>\n",
       "      <th>2</th>\n",
       "      <td>33</td>\n",
       "      <td>entrepreneur</td>\n",
       "      <td>married</td>\n",
       "      <td>secondary</td>\n",
       "      <td>unknown</td>\n",
       "      <td>5</td>\n",
       "      <td>may</td>\n",
       "      <td>76</td>\n",
       "      <td>1</td>\n",
       "      <td>unknown</td>\n",
       "      <td>no</td>\n",
       "      <td>0</td>\n",
       "    </tr>\n",
       "    <tr>\n",
       "      <th>3</th>\n",
       "      <td>47</td>\n",
       "      <td>blue-collar</td>\n",
       "      <td>married</td>\n",
       "      <td>secondary</td>\n",
       "      <td>unknown</td>\n",
       "      <td>5</td>\n",
       "      <td>may</td>\n",
       "      <td>92</td>\n",
       "      <td>1</td>\n",
       "      <td>unknown</td>\n",
       "      <td>no</td>\n",
       "      <td>0</td>\n",
       "    </tr>\n",
       "    <tr>\n",
       "      <th>4</th>\n",
       "      <td>33</td>\n",
       "      <td>blue-collar</td>\n",
       "      <td>single</td>\n",
       "      <td>secondary</td>\n",
       "      <td>unknown</td>\n",
       "      <td>5</td>\n",
       "      <td>may</td>\n",
       "      <td>198</td>\n",
       "      <td>1</td>\n",
       "      <td>unknown</td>\n",
       "      <td>no</td>\n",
       "      <td>0</td>\n",
       "    </tr>\n",
       "  </tbody>\n",
       "</table>\n",
       "</div>"
      ],
      "text/plain": [
       "   age           job  marital education_qual call_type  day  mon  dur  \\\n",
       "0   58    management  married       tertiary   unknown    5  may  261   \n",
       "1   44    technician   single      secondary   unknown    5  may  151   \n",
       "2   33  entrepreneur  married      secondary   unknown    5  may   76   \n",
       "3   47   blue-collar  married      secondary   unknown    5  may   92   \n",
       "4   33   blue-collar   single      secondary   unknown    5  may  198   \n",
       "\n",
       "   num_calls prev_outcome   y  target  \n",
       "0          1      unknown  no       0  \n",
       "1          1      unknown  no       0  \n",
       "2          1      unknown  no       0  \n",
       "3          1      unknown  no       0  \n",
       "4          1      unknown  no       0  "
      ]
     },
     "execution_count": 40,
     "metadata": {},
     "output_type": "execute_result"
    }
   ],
   "source": [
    "df.head()"
   ]
  },
  {
   "cell_type": "markdown",
   "id": "145f3b54",
   "metadata": {},
   "source": [
    "# Exploratory Data Analysis"
   ]
  },
  {
   "cell_type": "code",
   "execution_count": 41,
   "id": "3c9d0e72",
   "metadata": {},
   "outputs": [
    {
     "data": {
      "image/png": "[encoded data removed]",
      "text/plain": [
       "<Figure size 640x480 with 1 Axes>"
      ]
     },
     "metadata": {},
     "output_type": "display_data"
    }
   ],
   "source": [
    "df_j = pd.DataFrame(df.job.value_counts()).sort_values(\"job\", ascending=False).reset_index()\n",
    "df_j.rename(columns = {\"index\":\"jobb\",\"job\":\"count\"}, inplace=True)\n",
    "bar = sns.barplot(x=df_j[\"jobb\"], y=df_j[\"count\"], data=df_j)\n",
    "bar.tick_params(axis=\"x\", rotation=90)"
   ]
  },
  {
   "cell_type": "code",
   "execution_count": 42,
   "id": "e31561ff",
   "metadata": {},
   "outputs": [
    {
     "data": {
      "text/plain": [
       "<AxesSubplot: ylabel='job'>"
      ]
     },
     "execution_count": 42,
     "metadata": {},
     "output_type": "execute_result"
    },
    {
     "data": {
      "image/png": "[encoded data removed]",
      "text/plain": [
       "<Figure size 640x480 with 1 Axes>"
      ]
     },
     "metadata": {},
     "output_type": "display_data"
    }
   ],
   "source": [
    "(df.groupby(\"job\")[\"target\"].mean()*100).sort_values().plot(kind=\"barh\", color=\"green\")"
   ]
  },
  {
   "cell_type": "code",
   "execution_count": 43,
   "id": "2876f1d4",
   "metadata": {},
   "outputs": [
    {
     "data": {
      "text/plain": [
       "<AxesSubplot: ylabel='marital'>"
      ]
     },
     "execution_count": 43,
     "metadata": {},
     "output_type": "execute_result"
    },
    {
     "data": {
      "image/png": "[encoded data removed]",
      "text/plain": [
       "<Figure size 640x480 with 1 Axes>"
      ]
     },
     "metadata": {},
     "output_type": "display_data"
    }
   ],
   "source": [
    "(df.groupby(\"marital\")[\"target\"].mean()*100).sort_values().plot(kind=\"barh\", color=\"violet\")"
   ]
  },
  {
   "cell_type": "code",
   "execution_count": 44,
   "id": "16d78aee",
   "metadata": {},
   "outputs": [
    {
     "data": {
      "text/plain": [
       "<AxesSubplot: ylabel='education_qual'>"
      ]
     },
     "execution_count": 44,
     "metadata": {},
     "output_type": "execute_result"
    },
    {
     "data": {
      "image/png": "[encoded data removed]",
      "text/plain": [
       "<Figure size 640x480 with 1 Axes>"
      ]
     },
     "metadata": {},
     "output_type": "display_data"
    }
   ],
   "source": [
    "(df.groupby(\"education_qual\")[\"target\"].mean()*100).sort_values().plot(kind=\"barh\", color=\"orange\")"
   ]
  },
  {
   "cell_type": "code",
   "execution_count": 45,
   "id": "25a9922b",
   "metadata": {},
   "outputs": [
    {
     "data": {
      "text/plain": [
       "<AxesSubplot: ylabel='call_type'>"
      ]
     },
     "execution_count": 45,
     "metadata": {},
     "output_type": "execute_result"
    },
    {
     "data": {
      "image/png": "[encoded data removed]",
      "text/plain": [
       "<Figure size 640x480 with 1 Axes>"
      ]
     },
     "metadata": {},
     "output_type": "display_data"
    }
   ],
   "source": [
    "(df.groupby(\"call_type\")[\"target\"].mean()*100).sort_values().plot(kind=\"barh\", color=\"skyblue\")"
   ]
  },
  {
   "cell_type": "code",
   "execution_count": 46,
   "id": "cb323b19",
   "metadata": {},
   "outputs": [
    {
     "data": {
      "text/plain": [
       "<AxesSubplot: ylabel='mon'>"
      ]
     },
     "execution_count": 46,
     "metadata": {},
     "output_type": "execute_result"
    },
    {
     "data": {
      "image/png": "[encoded data removed]",
      "text/plain": [
       "<Figure size 640x480 with 1 Axes>"
      ]
     },
     "metadata": {},
     "output_type": "display_data"
    }
   ],
   "source": [
    "(df.groupby(\"mon\")[\"target\"].mean()*100).sort_values().plot(kind=\"barh\", color=\"y\")"
   ]
  },
  {
   "cell_type": "code",
   "execution_count": 47,
   "id": "f0766277",
   "metadata": {},
   "outputs": [
    {
     "data": {
      "text/plain": [
       "<AxesSubplot: ylabel='prev_outcome'>"
      ]
     },
     "execution_count": 47,
     "metadata": {},
     "output_type": "execute_result"
    },
    {
     "data": {
      "image/png": "[encoded data removed]",
      "text/plain": [
       "<Figure size 640x480 with 1 Axes>"
      ]
     },
     "metadata": {},
     "output_type": "display_data"
    }
   ],
   "source": [
    "(df.groupby(\"prev_outcome\")[\"target\"].mean()*100).sort_values().plot(kind=\"barh\", color=\"lightgreen\")"
   ]
  },
  {
   "cell_type": "markdown",
   "id": "30f187e9",
   "metadata": {},
   "source": [
    "# Data Encoding"
   ]
  },
  {
   "cell_type": "code",
   "execution_count": 48,
   "id": "f595c07d",
   "metadata": {},
   "outputs": [],
   "source": [
    "col = df[\"job\"].unique()\n",
    "P=[]\n",
    "for i in col:\n",
    " p =  len(df[df[\"job\"]==i][df[\"y\"]==\"yes\"])/len(df[df[\"job\"]==i])\n",
    " P.append(p)\n",
    "dff = pd.DataFrame({\"job\":col, \"%\":P})\n",
    "dff = dff.sort_values(\"%\", ascending=True)\n",
    "dff = dff.reset_index()\n",
    "del dff[\"index\"]"
   ]
  },
  {
   "cell_type": "code",
   "execution_count": 49,
   "id": "a3fbd1c7",
   "metadata": {},
   "outputs": [
    {
     "data": {
      "text/html": [
       "<div>\n",
       "<style scoped>\n",
       "    .dataframe tbody tr th:only-of-type {\n",
       "        vertical-align: middle;\n",
       "    }\n",
       "\n",
       "    .dataframe tbody tr th {\n",
       "        vertical-align: top;\n",
       "    }\n",
       "\n",
       "    .dataframe thead th {\n",
       "        text-align: right;\n",
       "    }\n",
       "</style>\n",
       "<table border=\"1\" class=\"dataframe\">\n",
       "  <thead>\n",
       "    <tr style=\"text-align: right;\">\n",
       "      <th></th>\n",
       "      <th>job</th>\n",
       "      <th>%</th>\n",
       "    </tr>\n",
       "  </thead>\n",
       "  <tbody>\n",
       "    <tr>\n",
       "      <th>0</th>\n",
       "      <td>blue-collar</td>\n",
       "      <td>0.074067</td>\n",
       "    </tr>\n",
       "    <tr>\n",
       "      <th>1</th>\n",
       "      <td>entrepreneur</td>\n",
       "      <td>0.082717</td>\n",
       "    </tr>\n",
       "    <tr>\n",
       "      <th>2</th>\n",
       "      <td>housemaid</td>\n",
       "      <td>0.087903</td>\n",
       "    </tr>\n",
       "    <tr>\n",
       "      <th>3</th>\n",
       "      <td>services</td>\n",
       "      <td>0.088851</td>\n",
       "    </tr>\n",
       "    <tr>\n",
       "      <th>4</th>\n",
       "      <td>technician</td>\n",
       "      <td>0.110585</td>\n",
       "    </tr>\n",
       "    <tr>\n",
       "      <th>5</th>\n",
       "      <td>self-employed</td>\n",
       "      <td>0.118429</td>\n",
       "    </tr>\n",
       "    <tr>\n",
       "      <th>6</th>\n",
       "      <td>admin.</td>\n",
       "      <td>0.122050</td>\n",
       "    </tr>\n",
       "    <tr>\n",
       "      <th>7</th>\n",
       "      <td>management</td>\n",
       "      <td>0.137570</td>\n",
       "    </tr>\n",
       "    <tr>\n",
       "      <th>8</th>\n",
       "      <td>unemployed</td>\n",
       "      <td>0.155027</td>\n",
       "    </tr>\n",
       "    <tr>\n",
       "      <th>9</th>\n",
       "      <td>retired</td>\n",
       "      <td>0.227915</td>\n",
       "    </tr>\n",
       "    <tr>\n",
       "      <th>10</th>\n",
       "      <td>student</td>\n",
       "      <td>0.286780</td>\n",
       "    </tr>\n",
       "  </tbody>\n",
       "</table>\n",
       "</div>"
      ],
      "text/plain": [
       "              job         %\n",
       "0     blue-collar  0.074067\n",
       "1    entrepreneur  0.082717\n",
       "2       housemaid  0.087903\n",
       "3        services  0.088851\n",
       "4      technician  0.110585\n",
       "5   self-employed  0.118429\n",
       "6          admin.  0.122050\n",
       "7      management  0.137570\n",
       "8      unemployed  0.155027\n",
       "9         retired  0.227915\n",
       "10        student  0.286780"
      ]
     },
     "execution_count": 49,
     "metadata": {},
     "output_type": "execute_result"
    }
   ],
   "source": [
    "dff"
   ]
  },
  {
   "cell_type": "code",
   "execution_count": 50,
   "id": "b67024f6",
   "metadata": {},
   "outputs": [],
   "source": [
    "df[\"job\"] = df[\"job\"].map({dff[\"job\"][0]:0, dff[\"job\"][1]:1, dff[\"job\"][2]:2, dff[\"job\"][3]:3, dff[\"job\"][4]:4, dff[\"job\"][5]:5, dff[\"job\"][6]:6, dff[\"job\"][7]:7, dff[\"job\"][8]:8, dff[\"job\"][9]:9, dff[\"job\"][10]:10})"
   ]
  },
  {
   "cell_type": "code",
   "execution_count": 51,
   "id": "c4977539",
   "metadata": {},
   "outputs": [],
   "source": [
    "col = df[\"marital\"].unique()\n",
    "P=[]\n",
    "for i in col:\n",
    " p =  len(df[df[\"marital\"]==i][df[\"y\"]==\"yes\"])/len(df[df[\"marital\"]==i])\n",
    " P.append(p)\n",
    "dff = pd.DataFrame({\"marital\":col, \"%\":P})\n",
    "dff = dff.sort_values(\"%\", ascending=True)\n",
    "dff = dff.reset_index()\n",
    "del dff[\"index\"]"
   ]
  },
  {
   "cell_type": "code",
   "execution_count": 52,
   "id": "49e20494",
   "metadata": {
    "scrolled": true
   },
   "outputs": [
    {
     "data": {
      "text/html": [
       "<div>\n",
       "<style scoped>\n",
       "    .dataframe tbody tr th:only-of-type {\n",
       "        vertical-align: middle;\n",
       "    }\n",
       "\n",
       "    .dataframe tbody tr th {\n",
       "        vertical-align: top;\n",
       "    }\n",
       "\n",
       "    .dataframe thead th {\n",
       "        text-align: right;\n",
       "    }\n",
       "</style>\n",
       "<table border=\"1\" class=\"dataframe\">\n",
       "  <thead>\n",
       "    <tr style=\"text-align: right;\">\n",
       "      <th></th>\n",
       "      <th>marital</th>\n",
       "      <th>%</th>\n",
       "    </tr>\n",
       "  </thead>\n",
       "  <tbody>\n",
       "    <tr>\n",
       "      <th>0</th>\n",
       "      <td>married</td>\n",
       "      <td>0.101250</td>\n",
       "    </tr>\n",
       "    <tr>\n",
       "      <th>1</th>\n",
       "      <td>divorced</td>\n",
       "      <td>0.119455</td>\n",
       "    </tr>\n",
       "    <tr>\n",
       "      <th>2</th>\n",
       "      <td>single</td>\n",
       "      <td>0.149515</td>\n",
       "    </tr>\n",
       "  </tbody>\n",
       "</table>\n",
       "</div>"
      ],
      "text/plain": [
       "    marital         %\n",
       "0   married  0.101250\n",
       "1  divorced  0.119455\n",
       "2    single  0.149515"
      ]
     },
     "execution_count": 52,
     "metadata": {},
     "output_type": "execute_result"
    }
   ],
   "source": [
    "dff"
   ]
  },
  {
   "cell_type": "code",
   "execution_count": 53,
   "id": "0204c59d",
   "metadata": {},
   "outputs": [],
   "source": [
    "df[\"marital\"] = df[\"marital\"].map({dff[\"marital\"][0]:0, dff[\"marital\"][1]:1, dff[\"marital\"][2]:2})"
   ]
  },
  {
   "cell_type": "code",
   "execution_count": 54,
   "id": "cf8b61f4",
   "metadata": {},
   "outputs": [],
   "source": [
    "col = df[\"education_qual\"].unique()\n",
    "P=[]\n",
    "for i in col:\n",
    " p =  len(df[df[\"education_qual\"]==i][df[\"y\"]==\"yes\"])/len(df[df[\"education_qual\"]==i])\n",
    " P.append(p)\n",
    "dff = pd.DataFrame({\"education_qual\":col, \"%\":P})\n",
    "dff = dff.sort_values(\"%\", ascending=True)\n",
    "dff = dff.reset_index()\n",
    "del dff[\"index\"]"
   ]
  },
  {
   "cell_type": "code",
   "execution_count": 55,
   "id": "243926a8",
   "metadata": {},
   "outputs": [
    {
     "data": {
      "text/html": [
       "<div>\n",
       "<style scoped>\n",
       "    .dataframe tbody tr th:only-of-type {\n",
       "        vertical-align: middle;\n",
       "    }\n",
       "\n",
       "    .dataframe tbody tr th {\n",
       "        vertical-align: top;\n",
       "    }\n",
       "\n",
       "    .dataframe thead th {\n",
       "        text-align: right;\n",
       "    }\n",
       "</style>\n",
       "<table border=\"1\" class=\"dataframe\">\n",
       "  <thead>\n",
       "    <tr style=\"text-align: right;\">\n",
       "      <th></th>\n",
       "      <th>education_qual</th>\n",
       "      <th>%</th>\n",
       "    </tr>\n",
       "  </thead>\n",
       "  <tbody>\n",
       "    <tr>\n",
       "      <th>0</th>\n",
       "      <td>primary</td>\n",
       "      <td>0.086277</td>\n",
       "    </tr>\n",
       "    <tr>\n",
       "      <th>1</th>\n",
       "      <td>secondary</td>\n",
       "      <td>0.107838</td>\n",
       "    </tr>\n",
       "    <tr>\n",
       "      <th>2</th>\n",
       "      <td>tertiary</td>\n",
       "      <td>0.150086</td>\n",
       "    </tr>\n",
       "  </tbody>\n",
       "</table>\n",
       "</div>"
      ],
      "text/plain": [
       "  education_qual         %\n",
       "0        primary  0.086277\n",
       "1      secondary  0.107838\n",
       "2       tertiary  0.150086"
      ]
     },
     "execution_count": 55,
     "metadata": {},
     "output_type": "execute_result"
    }
   ],
   "source": [
    "dff"
   ]
  },
  {
   "cell_type": "code",
   "execution_count": 56,
   "id": "e1fb15b5",
   "metadata": {},
   "outputs": [],
   "source": [
    "df[\"education_qual\"] = df[\"education_qual\"].map({dff[\"education_qual\"][0]:0, dff[\"education_qual\"][1]:1, dff[\"education_qual\"][2]:2})"
   ]
  },
  {
   "cell_type": "code",
   "execution_count": 57,
   "id": "38db4a86",
   "metadata": {},
   "outputs": [],
   "source": [
    "col = df[\"call_type\"].unique()\n",
    "P=[]\n",
    "for i in col:\n",
    " p =  len(df[df[\"call_type\"]==i][df[\"y\"]==\"yes\"])/len(df[df[\"call_type\"]==i])\n",
    " P.append(p)\n",
    "dff = pd.DataFrame({\"call_type\":col, \"%\":P})\n",
    "dff = dff.sort_values(\"%\", ascending=True)\n",
    "dff = dff.reset_index()\n",
    "del dff[\"index\"]"
   ]
  },
  {
   "cell_type": "code",
   "execution_count": 58,
   "id": "5163041f",
   "metadata": {},
   "outputs": [
    {
     "data": {
      "text/html": [
       "<div>\n",
       "<style scoped>\n",
       "    .dataframe tbody tr th:only-of-type {\n",
       "        vertical-align: middle;\n",
       "    }\n",
       "\n",
       "    .dataframe tbody tr th {\n",
       "        vertical-align: top;\n",
       "    }\n",
       "\n",
       "    .dataframe thead th {\n",
       "        text-align: right;\n",
       "    }\n",
       "</style>\n",
       "<table border=\"1\" class=\"dataframe\">\n",
       "  <thead>\n",
       "    <tr style=\"text-align: right;\">\n",
       "      <th></th>\n",
       "      <th>call_type</th>\n",
       "      <th>%</th>\n",
       "    </tr>\n",
       "  </thead>\n",
       "  <tbody>\n",
       "    <tr>\n",
       "      <th>0</th>\n",
       "      <td>unknown</td>\n",
       "      <td>0.040716</td>\n",
       "    </tr>\n",
       "    <tr>\n",
       "      <th>1</th>\n",
       "      <td>telephone</td>\n",
       "      <td>0.134205</td>\n",
       "    </tr>\n",
       "    <tr>\n",
       "      <th>2</th>\n",
       "      <td>cellular</td>\n",
       "      <td>0.149204</td>\n",
       "    </tr>\n",
       "  </tbody>\n",
       "</table>\n",
       "</div>"
      ],
      "text/plain": [
       "   call_type         %\n",
       "0    unknown  0.040716\n",
       "1  telephone  0.134205\n",
       "2   cellular  0.149204"
      ]
     },
     "execution_count": 58,
     "metadata": {},
     "output_type": "execute_result"
    }
   ],
   "source": [
    "dff"
   ]
  },
  {
   "cell_type": "code",
   "execution_count": 59,
   "id": "ce39fcd7",
   "metadata": {},
   "outputs": [],
   "source": [
    "df[\"call_type\"] = df[\"call_type\"].map({dff[\"call_type\"][0]:0, dff[\"call_type\"][1]:1, dff[\"call_type\"][2]:2})"
   ]
  },
  {
   "cell_type": "code",
   "execution_count": 60,
   "id": "2195c277",
   "metadata": {},
   "outputs": [],
   "source": [
    "col = df[\"mon\"].unique()\n",
    "P=[]\n",
    "for i in col:\n",
    " p =  len(df[df[\"mon\"]==i][df[\"y\"]==\"yes\"])/len(df[df[\"mon\"]==i])\n",
    " P.append(p)\n",
    "dff = pd.DataFrame({\"mon\":col, \"%\":P})\n",
    "dff = dff.sort_values(\"%\", ascending=True)\n",
    "dff = dff.reset_index()\n",
    "del dff[\"index\"]"
   ]
  },
  {
   "cell_type": "code",
   "execution_count": 61,
   "id": "c34da9f9",
   "metadata": {
    "scrolled": true
   },
   "outputs": [
    {
     "data": {
      "text/html": [
       "<div>\n",
       "<style scoped>\n",
       "    .dataframe tbody tr th:only-of-type {\n",
       "        vertical-align: middle;\n",
       "    }\n",
       "\n",
       "    .dataframe tbody tr th {\n",
       "        vertical-align: top;\n",
       "    }\n",
       "\n",
       "    .dataframe thead th {\n",
       "        text-align: right;\n",
       "    }\n",
       "</style>\n",
       "<table border=\"1\" class=\"dataframe\">\n",
       "  <thead>\n",
       "    <tr style=\"text-align: right;\">\n",
       "      <th></th>\n",
       "      <th>mon</th>\n",
       "      <th>%</th>\n",
       "    </tr>\n",
       "  </thead>\n",
       "  <tbody>\n",
       "    <tr>\n",
       "      <th>0</th>\n",
       "      <td>may</td>\n",
       "      <td>0.067199</td>\n",
       "    </tr>\n",
       "    <tr>\n",
       "      <th>1</th>\n",
       "      <td>jul</td>\n",
       "      <td>0.090949</td>\n",
       "    </tr>\n",
       "    <tr>\n",
       "      <th>2</th>\n",
       "      <td>jan</td>\n",
       "      <td>0.101212</td>\n",
       "    </tr>\n",
       "    <tr>\n",
       "      <th>3</th>\n",
       "      <td>nov</td>\n",
       "      <td>0.101511</td>\n",
       "    </tr>\n",
       "    <tr>\n",
       "      <th>4</th>\n",
       "      <td>jun</td>\n",
       "      <td>0.102266</td>\n",
       "    </tr>\n",
       "    <tr>\n",
       "      <th>5</th>\n",
       "      <td>aug</td>\n",
       "      <td>0.110168</td>\n",
       "    </tr>\n",
       "    <tr>\n",
       "      <th>6</th>\n",
       "      <td>feb</td>\n",
       "      <td>0.166478</td>\n",
       "    </tr>\n",
       "    <tr>\n",
       "      <th>7</th>\n",
       "      <td>apr</td>\n",
       "      <td>0.196794</td>\n",
       "    </tr>\n",
       "    <tr>\n",
       "      <th>8</th>\n",
       "      <td>oct</td>\n",
       "      <td>0.437669</td>\n",
       "    </tr>\n",
       "    <tr>\n",
       "      <th>9</th>\n",
       "      <td>sep</td>\n",
       "      <td>0.464594</td>\n",
       "    </tr>\n",
       "    <tr>\n",
       "      <th>10</th>\n",
       "      <td>dec</td>\n",
       "      <td>0.467290</td>\n",
       "    </tr>\n",
       "    <tr>\n",
       "      <th>11</th>\n",
       "      <td>mar</td>\n",
       "      <td>0.519916</td>\n",
       "    </tr>\n",
       "  </tbody>\n",
       "</table>\n",
       "</div>"
      ],
      "text/plain": [
       "    mon         %\n",
       "0   may  0.067199\n",
       "1   jul  0.090949\n",
       "2   jan  0.101212\n",
       "3   nov  0.101511\n",
       "4   jun  0.102266\n",
       "5   aug  0.110168\n",
       "6   feb  0.166478\n",
       "7   apr  0.196794\n",
       "8   oct  0.437669\n",
       "9   sep  0.464594\n",
       "10  dec  0.467290\n",
       "11  mar  0.519916"
      ]
     },
     "execution_count": 61,
     "metadata": {},
     "output_type": "execute_result"
    }
   ],
   "source": [
    "dff"
   ]
  },
  {
   "cell_type": "code",
   "execution_count": 62,
   "id": "8d69c92a",
   "metadata": {},
   "outputs": [],
   "source": [
    "df[\"mon\"] = df[\"mon\"].map({dff[\"mon\"][0]:0, dff[\"mon\"][1]:1, dff[\"mon\"][2]:2, dff[\"mon\"][3]:3, dff[\"mon\"][4]:4, dff[\"mon\"][5]:5, dff[\"mon\"][6]:6, dff[\"mon\"][7]:7, dff[\"mon\"][8]:8, dff[\"mon\"][9]:9, dff[\"mon\"][10]:10, dff[\"mon\"][11]:11})"
   ]
  },
  {
   "cell_type": "code",
   "execution_count": 63,
   "id": "83c5ea1a",
   "metadata": {},
   "outputs": [],
   "source": [
    "col = df[\"prev_outcome\"].unique()\n",
    "P=[]\n",
    "for i in col:\n",
    " p =  len(df[df[\"prev_outcome\"]==i][df[\"y\"]==\"yes\"])/len(df[df[\"prev_outcome\"]==i])\n",
    " P.append(p)\n",
    "dff = pd.DataFrame({\"prev_outcome\":col, \"%\":P})\n",
    "dff = dff.sort_values(\"%\", ascending=True)\n",
    "dff = dff.reset_index()\n",
    "del dff[\"index\"]"
   ]
  },
  {
   "cell_type": "code",
   "execution_count": 64,
   "id": "c66a7b37",
   "metadata": {},
   "outputs": [
    {
     "data": {
      "text/html": [
       "<div>\n",
       "<style scoped>\n",
       "    .dataframe tbody tr th:only-of-type {\n",
       "        vertical-align: middle;\n",
       "    }\n",
       "\n",
       "    .dataframe tbody tr th {\n",
       "        vertical-align: top;\n",
       "    }\n",
       "\n",
       "    .dataframe thead th {\n",
       "        text-align: right;\n",
       "    }\n",
       "</style>\n",
       "<table border=\"1\" class=\"dataframe\">\n",
       "  <thead>\n",
       "    <tr style=\"text-align: right;\">\n",
       "      <th></th>\n",
       "      <th>prev_outcome</th>\n",
       "      <th>%</th>\n",
       "    </tr>\n",
       "  </thead>\n",
       "  <tbody>\n",
       "    <tr>\n",
       "      <th>0</th>\n",
       "      <td>unknown</td>\n",
       "      <td>0.091630</td>\n",
       "    </tr>\n",
       "    <tr>\n",
       "      <th>1</th>\n",
       "      <td>failure</td>\n",
       "      <td>0.126097</td>\n",
       "    </tr>\n",
       "    <tr>\n",
       "      <th>2</th>\n",
       "      <td>other</td>\n",
       "      <td>0.166848</td>\n",
       "    </tr>\n",
       "    <tr>\n",
       "      <th>3</th>\n",
       "      <td>success</td>\n",
       "      <td>0.647253</td>\n",
       "    </tr>\n",
       "  </tbody>\n",
       "</table>\n",
       "</div>"
      ],
      "text/plain": [
       "  prev_outcome         %\n",
       "0      unknown  0.091630\n",
       "1      failure  0.126097\n",
       "2        other  0.166848\n",
       "3      success  0.647253"
      ]
     },
     "execution_count": 64,
     "metadata": {},
     "output_type": "execute_result"
    }
   ],
   "source": [
    "dff"
   ]
  },
  {
   "cell_type": "code",
   "execution_count": 65,
   "id": "dcf585b5",
   "metadata": {},
   "outputs": [],
   "source": [
    "df[\"prev_outcome\"] = df[\"prev_outcome\"].map({dff[\"prev_outcome\"][0]:0, dff[\"prev_outcome\"][1]:1, dff[\"prev_outcome\"][2]:2, dff[\"prev_outcome\"][3]:3})"
   ]
  },
  {
   "cell_type": "code",
   "execution_count": 66,
   "id": "d55658d2",
   "metadata": {
    "scrolled": true
   },
   "outputs": [
    {
     "data": {
      "text/html": [
       "<div>\n",
       "<style scoped>\n",
       "    .dataframe tbody tr th:only-of-type {\n",
       "        vertical-align: middle;\n",
       "    }\n",
       "\n",
       "    .dataframe tbody tr th {\n",
       "        vertical-align: top;\n",
       "    }\n",
       "\n",
       "    .dataframe thead th {\n",
       "        text-align: right;\n",
       "    }\n",
       "</style>\n",
       "<table border=\"1\" class=\"dataframe\">\n",
       "  <thead>\n",
       "    <tr style=\"text-align: right;\">\n",
       "      <th></th>\n",
       "      <th>age</th>\n",
       "      <th>job</th>\n",
       "      <th>marital</th>\n",
       "      <th>education_qual</th>\n",
       "      <th>call_type</th>\n",
       "      <th>day</th>\n",
       "      <th>mon</th>\n",
       "      <th>dur</th>\n",
       "      <th>num_calls</th>\n",
       "      <th>prev_outcome</th>\n",
       "      <th>y</th>\n",
       "      <th>target</th>\n",
       "    </tr>\n",
       "  </thead>\n",
       "  <tbody>\n",
       "    <tr>\n",
       "      <th>0</th>\n",
       "      <td>58</td>\n",
       "      <td>7</td>\n",
       "      <td>0</td>\n",
       "      <td>2</td>\n",
       "      <td>0</td>\n",
       "      <td>5</td>\n",
       "      <td>0</td>\n",
       "      <td>261</td>\n",
       "      <td>1</td>\n",
       "      <td>0</td>\n",
       "      <td>no</td>\n",
       "      <td>0</td>\n",
       "    </tr>\n",
       "    <tr>\n",
       "      <th>1</th>\n",
       "      <td>44</td>\n",
       "      <td>4</td>\n",
       "      <td>2</td>\n",
       "      <td>1</td>\n",
       "      <td>0</td>\n",
       "      <td>5</td>\n",
       "      <td>0</td>\n",
       "      <td>151</td>\n",
       "      <td>1</td>\n",
       "      <td>0</td>\n",
       "      <td>no</td>\n",
       "      <td>0</td>\n",
       "    </tr>\n",
       "    <tr>\n",
       "      <th>2</th>\n",
       "      <td>33</td>\n",
       "      <td>1</td>\n",
       "      <td>0</td>\n",
       "      <td>1</td>\n",
       "      <td>0</td>\n",
       "      <td>5</td>\n",
       "      <td>0</td>\n",
       "      <td>76</td>\n",
       "      <td>1</td>\n",
       "      <td>0</td>\n",
       "      <td>no</td>\n",
       "      <td>0</td>\n",
       "    </tr>\n",
       "    <tr>\n",
       "      <th>3</th>\n",
       "      <td>47</td>\n",
       "      <td>0</td>\n",
       "      <td>0</td>\n",
       "      <td>1</td>\n",
       "      <td>0</td>\n",
       "      <td>5</td>\n",
       "      <td>0</td>\n",
       "      <td>92</td>\n",
       "      <td>1</td>\n",
       "      <td>0</td>\n",
       "      <td>no</td>\n",
       "      <td>0</td>\n",
       "    </tr>\n",
       "    <tr>\n",
       "      <th>4</th>\n",
       "      <td>33</td>\n",
       "      <td>0</td>\n",
       "      <td>2</td>\n",
       "      <td>1</td>\n",
       "      <td>0</td>\n",
       "      <td>5</td>\n",
       "      <td>0</td>\n",
       "      <td>198</td>\n",
       "      <td>1</td>\n",
       "      <td>0</td>\n",
       "      <td>no</td>\n",
       "      <td>0</td>\n",
       "    </tr>\n",
       "  </tbody>\n",
       "</table>\n",
       "</div>"
      ],
      "text/plain": [
       "   age  job  marital  education_qual  call_type  day  mon  dur  num_calls  \\\n",
       "0   58    7        0               2          0    5    0  261          1   \n",
       "1   44    4        2               1          0    5    0  151          1   \n",
       "2   33    1        0               1          0    5    0   76          1   \n",
       "3   47    0        0               1          0    5    0   92          1   \n",
       "4   33    0        2               1          0    5    0  198          1   \n",
       "\n",
       "   prev_outcome   y  target  \n",
       "0             0  no       0  \n",
       "1             0  no       0  \n",
       "2             0  no       0  \n",
       "3             0  no       0  \n",
       "4             0  no       0  "
      ]
     },
     "execution_count": 66,
     "metadata": {},
     "output_type": "execute_result"
    }
   ],
   "source": [
    "df.head()"
   ]
  },
  {
   "cell_type": "code",
   "execution_count": 67,
   "id": "8f68f24e",
   "metadata": {},
   "outputs": [
    {
     "data": {
      "text/html": [
       "<div>\n",
       "<style scoped>\n",
       "    .dataframe tbody tr th:only-of-type {\n",
       "        vertical-align: middle;\n",
       "    }\n",
       "\n",
       "    .dataframe tbody tr th {\n",
       "        vertical-align: top;\n",
       "    }\n",
       "\n",
       "    .dataframe thead th {\n",
       "        text-align: right;\n",
       "    }\n",
       "</style>\n",
       "<table border=\"1\" class=\"dataframe\">\n",
       "  <thead>\n",
       "    <tr style=\"text-align: right;\">\n",
       "      <th></th>\n",
       "      <th>age</th>\n",
       "      <th>job</th>\n",
       "      <th>marital</th>\n",
       "      <th>education_qual</th>\n",
       "      <th>call_type</th>\n",
       "      <th>day</th>\n",
       "      <th>mon</th>\n",
       "      <th>dur</th>\n",
       "      <th>num_calls</th>\n",
       "      <th>prev_outcome</th>\n",
       "      <th>target</th>\n",
       "    </tr>\n",
       "  </thead>\n",
       "  <tbody>\n",
       "    <tr>\n",
       "      <th>count</th>\n",
       "      <td>45205.000000</td>\n",
       "      <td>45205.000000</td>\n",
       "      <td>45205.000000</td>\n",
       "      <td>45205.000000</td>\n",
       "      <td>45205.000000</td>\n",
       "      <td>45205.00000</td>\n",
       "      <td>45205.000000</td>\n",
       "      <td>45205.00000</td>\n",
       "      <td>45205.000000</td>\n",
       "      <td>45205.000000</td>\n",
       "      <td>45205.000000</td>\n",
       "    </tr>\n",
       "    <tr>\n",
       "      <th>mean</th>\n",
       "      <td>40.937087</td>\n",
       "      <td>4.249618</td>\n",
       "      <td>0.680964</td>\n",
       "      <td>1.142661</td>\n",
       "      <td>1.359805</td>\n",
       "      <td>15.80688</td>\n",
       "      <td>2.856122</td>\n",
       "      <td>234.95620</td>\n",
       "      <td>2.392235</td>\n",
       "      <td>0.290101</td>\n",
       "      <td>0.117000</td>\n",
       "    </tr>\n",
       "    <tr>\n",
       "      <th>std</th>\n",
       "      <td>10.619130</td>\n",
       "      <td>2.969312</td>\n",
       "      <td>0.884900</td>\n",
       "      <td>0.652213</td>\n",
       "      <td>0.897927</td>\n",
       "      <td>8.32234</td>\n",
       "      <td>2.715405</td>\n",
       "      <td>176.75476</td>\n",
       "      <td>1.600152</td>\n",
       "      <td>0.698508</td>\n",
       "      <td>0.321424</td>\n",
       "    </tr>\n",
       "    <tr>\n",
       "      <th>min</th>\n",
       "      <td>18.000000</td>\n",
       "      <td>0.000000</td>\n",
       "      <td>0.000000</td>\n",
       "      <td>0.000000</td>\n",
       "      <td>0.000000</td>\n",
       "      <td>1.00000</td>\n",
       "      <td>0.000000</td>\n",
       "      <td>0.00000</td>\n",
       "      <td>1.000000</td>\n",
       "      <td>0.000000</td>\n",
       "      <td>0.000000</td>\n",
       "    </tr>\n",
       "    <tr>\n",
       "      <th>25%</th>\n",
       "      <td>33.000000</td>\n",
       "      <td>1.000000</td>\n",
       "      <td>0.000000</td>\n",
       "      <td>1.000000</td>\n",
       "      <td>0.000000</td>\n",
       "      <td>8.00000</td>\n",
       "      <td>0.000000</td>\n",
       "      <td>103.00000</td>\n",
       "      <td>1.000000</td>\n",
       "      <td>0.000000</td>\n",
       "      <td>0.000000</td>\n",
       "    </tr>\n",
       "    <tr>\n",
       "      <th>50%</th>\n",
       "      <td>39.000000</td>\n",
       "      <td>4.000000</td>\n",
       "      <td>0.000000</td>\n",
       "      <td>1.000000</td>\n",
       "      <td>2.000000</td>\n",
       "      <td>16.00000</td>\n",
       "      <td>3.000000</td>\n",
       "      <td>180.00000</td>\n",
       "      <td>2.000000</td>\n",
       "      <td>0.000000</td>\n",
       "      <td>0.000000</td>\n",
       "    </tr>\n",
       "    <tr>\n",
       "      <th>75%</th>\n",
       "      <td>48.000000</td>\n",
       "      <td>7.000000</td>\n",
       "      <td>2.000000</td>\n",
       "      <td>2.000000</td>\n",
       "      <td>2.000000</td>\n",
       "      <td>21.00000</td>\n",
       "      <td>5.000000</td>\n",
       "      <td>319.00000</td>\n",
       "      <td>3.000000</td>\n",
       "      <td>0.000000</td>\n",
       "      <td>0.000000</td>\n",
       "    </tr>\n",
       "    <tr>\n",
       "      <th>max</th>\n",
       "      <td>95.000000</td>\n",
       "      <td>10.000000</td>\n",
       "      <td>2.000000</td>\n",
       "      <td>2.000000</td>\n",
       "      <td>2.000000</td>\n",
       "      <td>31.00000</td>\n",
       "      <td>11.000000</td>\n",
       "      <td>643.00000</td>\n",
       "      <td>6.000000</td>\n",
       "      <td>3.000000</td>\n",
       "      <td>1.000000</td>\n",
       "    </tr>\n",
       "  </tbody>\n",
       "</table>\n",
       "</div>"
      ],
      "text/plain": [
       "                age           job       marital  education_qual     call_type  \\\n",
       "count  45205.000000  45205.000000  45205.000000    45205.000000  45205.000000   \n",
       "mean      40.937087      4.249618      0.680964        1.142661      1.359805   \n",
       "std       10.619130      2.969312      0.884900        0.652213      0.897927   \n",
       "min       18.000000      0.000000      0.000000        0.000000      0.000000   \n",
       "25%       33.000000      1.000000      0.000000        1.000000      0.000000   \n",
       "50%       39.000000      4.000000      0.000000        1.000000      2.000000   \n",
       "75%       48.000000      7.000000      2.000000        2.000000      2.000000   \n",
       "max       95.000000     10.000000      2.000000        2.000000      2.000000   \n",
       "\n",
       "               day           mon          dur     num_calls  prev_outcome  \\\n",
       "count  45205.00000  45205.000000  45205.00000  45205.000000  45205.000000   \n",
       "mean      15.80688      2.856122    234.95620      2.392235      0.290101   \n",
       "std        8.32234      2.715405    176.75476      1.600152      0.698508   \n",
       "min        1.00000      0.000000      0.00000      1.000000      0.000000   \n",
       "25%        8.00000      0.000000    103.00000      1.000000      0.000000   \n",
       "50%       16.00000      3.000000    180.00000      2.000000      0.000000   \n",
       "75%       21.00000      5.000000    319.00000      3.000000      0.000000   \n",
       "max       31.00000     11.000000    643.00000      6.000000      3.000000   \n",
       "\n",
       "             target  \n",
       "count  45205.000000  \n",
       "mean       0.117000  \n",
       "std        0.321424  \n",
       "min        0.000000  \n",
       "25%        0.000000  \n",
       "50%        0.000000  \n",
       "75%        0.000000  \n",
       "max        1.000000  "
      ]
     },
     "execution_count": 67,
     "metadata": {},
     "output_type": "execute_result"
    }
   ],
   "source": [
    "df.describe()"
   ]
  },
  {
   "cell_type": "markdown",
   "id": "31abfafc",
   "metadata": {},
   "source": [
    "# Splitting of Dataset"
   ]
  },
  {
   "cell_type": "code",
   "execution_count": 68,
   "id": "ade980c0",
   "metadata": {},
   "outputs": [
    {
     "data": {
      "text/plain": [
       "['age',\n",
       " 'job',\n",
       " 'marital',\n",
       " 'education_qual',\n",
       " 'call_type',\n",
       " 'day',\n",
       " 'mon',\n",
       " 'dur',\n",
       " 'num_calls',\n",
       " 'prev_outcome']"
      ]
     },
     "execution_count": 68,
     "metadata": {},
     "output_type": "execute_result"
    }
   ],
   "source": [
    "col = [*df.columns]\n",
    "col[:-2]"
   ]
  },
  {
   "cell_type": "code",
   "execution_count": 69,
   "id": "369a643e",
   "metadata": {},
   "outputs": [],
   "source": [
    "x = df.loc[:, col[:-2]].values\n",
    "y = df.loc[:, col[-1]].values"
   ]
  },
  {
   "cell_type": "code",
   "execution_count": 70,
   "id": "6938ad73",
   "metadata": {},
   "outputs": [],
   "source": [
    "x_train, x_test, y_train, y_test = train_test_split(x, y, test_size=0.25)"
   ]
  },
  {
   "cell_type": "markdown",
   "id": "d5f1605c",
   "metadata": {},
   "source": [
    "# Balancing Dataset using SMOTEENN"
   ]
  },
  {
   "cell_type": "code",
   "execution_count": 71,
   "id": "98b7ab9d",
   "metadata": {},
   "outputs": [
    {
     "data": {
      "text/plain": [
       "(45205, 12)"
      ]
     },
     "execution_count": 71,
     "metadata": {},
     "output_type": "execute_result"
    }
   ],
   "source": [
    "df.shape"
   ]
  },
  {
   "cell_type": "code",
   "execution_count": 72,
   "id": "4ef5a3e0",
   "metadata": {},
   "outputs": [
    {
     "data": {
      "text/plain": [
       "(33903, 33903)"
      ]
     },
     "execution_count": 72,
     "metadata": {},
     "output_type": "execute_result"
    }
   ],
   "source": [
    "len(x_train),len(y_train)"
   ]
  },
  {
   "cell_type": "code",
   "execution_count": 73,
   "id": "dd827c10",
   "metadata": {},
   "outputs": [],
   "source": [
    "smt = SMOTEENN(sampling_strategy=\"all\")\n",
    "x_smt, y_smt = smt.fit_resample(x_train, y_train)"
   ]
  },
  {
   "cell_type": "code",
   "execution_count": 74,
   "id": "da710301",
   "metadata": {},
   "outputs": [
    {
     "data": {
      "text/plain": [
       "(50127, 50127)"
      ]
     },
     "execution_count": 74,
     "metadata": {},
     "output_type": "execute_result"
    }
   ],
   "source": [
    "len(x_smt),len(y_smt)"
   ]
  },
  {
   "cell_type": "code",
   "execution_count": 75,
   "id": "edba5813",
   "metadata": {},
   "outputs": [],
   "source": [
    "df_bal = pd.DataFrame(x_smt, columns= df.columns[:-2])"
   ]
  },
  {
   "cell_type": "code",
   "execution_count": 76,
   "id": "a487286e",
   "metadata": {},
   "outputs": [],
   "source": [
    "df_bal[\"y\"] = y_smt"
   ]
  },
  {
   "cell_type": "code",
   "execution_count": 77,
   "id": "dc8405ae",
   "metadata": {
    "scrolled": true
   },
   "outputs": [
    {
     "data": {
      "text/plain": [
       "0.5622718295529355"
      ]
     },
     "execution_count": 77,
     "metadata": {},
     "output_type": "execute_result"
    }
   ],
   "source": [
    "len(df_bal[df_bal[\"y\"]==1])/len(df_bal)"
   ]
  },
  {
   "cell_type": "markdown",
   "id": "9592c95b",
   "metadata": {},
   "source": [
    "# Model : Logistic Regression"
   ]
  },
  {
   "cell_type": "code",
   "execution_count": 78,
   "id": "4561b216",
   "metadata": {
    "scrolled": true
   },
   "outputs": [],
   "source": [
    "lr = LogisticRegression()\n",
    "lr.fit(x_smt,y_smt)\n",
    "lr.score(x_test,y_test)\n",
    "log = roc_auc_score(y_test, lr.predict_proba(x_test)[:, 1])"
   ]
  },
  {
   "cell_type": "code",
   "execution_count": 79,
   "id": "eeedb95f",
   "metadata": {},
   "outputs": [
    {
     "data": {
      "text/plain": [
       "<AxesSubplot: >"
      ]
     },
     "execution_count": 79,
     "metadata": {},
     "output_type": "execute_result"
    },
    {
     "data": {
      "image/png": "[encoded data removed]",
      "text/plain": [
       "<Figure size 640x480 with 2 Axes>"
      ]
     },
     "metadata": {},
     "output_type": "display_data"
    }
   ],
   "source": [
    "sns.heatmap(confusion_matrix(y_test, lr.predict(x_test)), annot=True,  fmt='3g', cmap=\"Reds\")"
   ]
  },
  {
   "cell_type": "markdown",
   "id": "db1e4e72",
   "metadata": {},
   "source": [
    "# Model : KNN"
   ]
  },
  {
   "cell_type": "code",
   "execution_count": 80,
   "id": "87df78de",
   "metadata": {
    "scrolled": false
   },
   "outputs": [
    {
     "data": {
      "text/plain": [
       "0.7485400814015218"
      ]
     },
     "execution_count": 80,
     "metadata": {},
     "output_type": "execute_result"
    }
   ],
   "source": [
    "KNN = KNeighborsClassifier()\n",
    "KNN.fit(x_smt, y_smt)\n",
    "KNN.score(x_test, y_test)"
   ]
  },
  {
   "cell_type": "code",
   "execution_count": 81,
   "id": "8dd8ef63",
   "metadata": {},
   "outputs": [],
   "source": [
    "k = roc_auc_score(y_test, KNN.predict_proba(x_test)[:, 1])"
   ]
  },
  {
   "cell_type": "code",
   "execution_count": 82,
   "id": "0422a9ca",
   "metadata": {},
   "outputs": [
    {
     "data": {
      "text/plain": [
       "<AxesSubplot: >"
      ]
     },
     "execution_count": 82,
     "metadata": {},
     "output_type": "execute_result"
    },
    {
     "data": {
      "image/png": "[encoded data removed]",
      "text/plain": [
       "<Figure size 640x480 with 2 Axes>"
      ]
     },
     "metadata": {},
     "output_type": "display_data"
    }
   ],
   "source": [
    "sns.heatmap(confusion_matrix(y_test, KNN.predict(x_test)), annot=True,  fmt='3g', cmap=\"Reds\")"
   ]
  },
  {
   "cell_type": "markdown",
   "id": "d99cf674",
   "metadata": {},
   "source": [
    "# Model : Decision Tree"
   ]
  },
  {
   "cell_type": "code",
   "execution_count": 83,
   "id": "766c2987",
   "metadata": {},
   "outputs": [
    {
     "data": {
      "text/plain": [
       "0.8256060874181561"
      ]
     },
     "execution_count": 83,
     "metadata": {},
     "output_type": "execute_result"
    }
   ],
   "source": [
    "dt = DecisionTreeClassifier()\n",
    "dt.fit(x_smt, y_smt)\n",
    "dt.score(x_test, y_test)"
   ]
  },
  {
   "cell_type": "code",
   "execution_count": 84,
   "id": "3080083f",
   "metadata": {},
   "outputs": [],
   "source": [
    "d = roc_auc_score(y_test, dt.predict_proba(x_test)[:, 1])"
   ]
  },
  {
   "cell_type": "code",
   "execution_count": 85,
   "id": "bc108d1c",
   "metadata": {},
   "outputs": [
    {
     "data": {
      "text/plain": [
       "<AxesSubplot: >"
      ]
     },
     "execution_count": 85,
     "metadata": {},
     "output_type": "execute_result"
    },
    {
     "data": {
      "image/png": "[encoded data removed]",
      "text/plain": [
       "<Figure size 640x480 with 2 Axes>"
      ]
     },
     "metadata": {},
     "output_type": "display_data"
    }
   ],
   "source": [
    "sns.heatmap(confusion_matrix(y_test, dt.predict(x_test)), annot=True,  fmt='3g', cmap=\"Reds\")"
   ]
  },
  {
   "cell_type": "markdown",
   "id": "d65f7218",
   "metadata": {},
   "source": [
    "# Model : Random Forest"
   ]
  },
  {
   "cell_type": "code",
   "execution_count": 86,
   "id": "672c9c62",
   "metadata": {},
   "outputs": [
    {
     "data": {
      "text/html": [
       "<style>#sk-container-id-1 {color: black;background-color: white;}#sk-container-id-1 pre{padding: 0;}#sk-container-id-1 div.sk-toggleable {background-color: white;}#sk-container-id-1 label.sk-toggleable__label {cursor: pointer;display: block;width: 100%;margin-bottom: 0;padding: 0.3em;box-sizing: border-box;text-align: center;}#sk-container-id-1 label.sk-toggleable__label-arrow:before {content: \"▸\";float: left;margin-right: 0.25em;color: #696969;}#sk-container-id-1 label.sk-toggleable__label-arrow:hover:before {color: black;}#sk-container-id-1 div.sk-estimator:hover label.sk-toggleable__label-arrow:before {color: black;}#sk-container-id-1 div.sk-toggleable__content {max-height: 0;max-width: 0;overflow: hidden;text-align: left;background-color: #f0f8ff;}#sk-container-id-1 div.sk-toggleable__content pre {margin: 0.2em;color: black;border-radius: 0.25em;background-color: #f0f8ff;}#sk-container-id-1 input.sk-toggleable__control:checked~div.sk-toggleable__content {max-height: 200px;max-width: 100%;overflow: auto;}#sk-container-id-1 input.sk-toggleable__control:checked~label.sk-toggleable__label-arrow:before {content: \"▾\";}#sk-container-id-1 div.sk-estimator input.sk-toggleable__control:checked~label.sk-toggleable__label {background-color: #d4ebff;}#sk-container-id-1 div.sk-label input.sk-toggleable__control:checked~label.sk-toggleable__label {background-color: #d4ebff;}#sk-container-id-1 input.sk-hidden--visually {border: 0;clip: rect(1px 1px 1px 1px);clip: rect(1px, 1px, 1px, 1px);height: 1px;margin: -1px;overflow: hidden;padding: 0;position: absolute;width: 1px;}#sk-container-id-1 div.sk-estimator {font-family: monospace;background-color: #f0f8ff;border: 1px dotted black;border-radius: 0.25em;box-sizing: border-box;margin-bottom: 0.5em;}#sk-container-id-1 div.sk-estimator:hover {background-color: #d4ebff;}#sk-container-id-1 div.sk-parallel-item::after {content: \"\";width: 100%;border-bottom: 1px solid gray;flex-grow: 1;}#sk-container-id-1 div.sk-label:hover label.sk-toggleable__label {background-color: #d4ebff;}#sk-container-id-1 div.sk-serial::before {content: \"\";position: absolute;border-left: 1px solid gray;box-sizing: border-box;top: 0;bottom: 0;left: 50%;z-index: 0;}#sk-container-id-1 div.sk-serial {display: flex;flex-direction: column;align-items: center;background-color: white;padding-right: 0.2em;padding-left: 0.2em;position: relative;}#sk-container-id-1 div.sk-item {position: relative;z-index: 1;}#sk-container-id-1 div.sk-parallel {display: flex;align-items: stretch;justify-content: center;background-color: white;position: relative;}#sk-container-id-1 div.sk-item::before, #sk-container-id-1 div.sk-parallel-item::before {content: \"\";position: absolute;border-left: 1px solid gray;box-sizing: border-box;top: 0;bottom: 0;left: 50%;z-index: -1;}#sk-container-id-1 div.sk-parallel-item {display: flex;flex-direction: column;z-index: 1;position: relative;background-color: white;}#sk-container-id-1 div.sk-parallel-item:first-child::after {align-self: flex-end;width: 50%;}#sk-container-id-1 div.sk-parallel-item:last-child::after {align-self: flex-start;width: 50%;}#sk-container-id-1 div.sk-parallel-item:only-child::after {width: 0;}#sk-container-id-1 div.sk-dashed-wrapped {border: 1px dashed gray;margin: 0 0.4em 0.5em 0.4em;box-sizing: border-box;padding-bottom: 0.4em;background-color: white;}#sk-container-id-1 div.sk-label label {font-family: monospace;font-weight: bold;display: inline-block;line-height: 1.2em;}#sk-container-id-1 div.sk-label-container {text-align: center;}#sk-container-id-1 div.sk-container {/* jupyter's `normalize.less` sets `[hidden] { display: none; }` but bootstrap.min.css set `[hidden] { display: none !important; }` so we also need the `!important` here to be able to override the default hidden behavior on the sphinx rendered scikit-learn.org. See: https://github.com/scikit-learn/scikit-learn/issues/21755 */display: inline-block !important;position: relative;}#sk-container-id-1 div.sk-text-repr-fallback {display: none;}</style><div id=\"sk-container-id-1\" class=\"sk-top-container\"><div class=\"sk-text-repr-fallback\"><pre>RandomForestClassifier(max_depth=4)</pre><b>In a Jupyter environment, please rerun this cell to show the HTML representation or trust the notebook. <br />On GitHub, the HTML representation is unable to render, please try loading this page with nbviewer.org.</b></div><div class=\"sk-container\" hidden><div class=\"sk-item\"><div class=\"sk-estimator sk-toggleable\"><input class=\"sk-toggleable__control sk-hidden--visually\" id=\"sk-estimator-id-1\" type=\"checkbox\" checked><label for=\"sk-estimator-id-1\" class=\"sk-toggleable__label sk-toggleable__label-arrow\">RandomForestClassifier</label><div class=\"sk-toggleable__content\"><pre>RandomForestClassifier(max_depth=4)</pre></div></div></div></div></div>"
      ],
      "text/plain": [
       "RandomForestClassifier(max_depth=4)"
      ]
     },
     "execution_count": 86,
     "metadata": {},
     "output_type": "execute_result"
    }
   ],
   "source": [
    "rf = RandomForestClassifier(n_estimators=100, max_depth=4, max_features=\"sqrt\")\n",
    "rf.fit(x_smt, y_smt)"
   ]
  },
  {
   "cell_type": "code",
   "execution_count": 87,
   "id": "87f841a6",
   "metadata": {},
   "outputs": [],
   "source": [
    "r = roc_auc_score(y_test, rf.predict_proba(x_test)[:, 1])"
   ]
  },
  {
   "cell_type": "code",
   "execution_count": 88,
   "id": "3c9a00c8",
   "metadata": {},
   "outputs": [
    {
     "data": {
      "text/plain": [
       "<AxesSubplot: >"
      ]
     },
     "execution_count": 88,
     "metadata": {},
     "output_type": "execute_result"
    },
    {
     "data": {
      "image/png": "[encoded data removed]",
      "text/plain": [
       "<Figure size 640x480 with 2 Axes>"
      ]
     },
     "metadata": {},
     "output_type": "display_data"
    }
   ],
   "source": [
    "sns.heatmap(confusion_matrix(y_test, rf.predict(x_test)), annot=True,  fmt='3g', cmap=\"Reds\")"
   ]
  },
  {
   "cell_type": "markdown",
   "id": "3f6c8129",
   "metadata": {},
   "source": [
    "# Model : XGBoost"
   ]
  },
  {
   "cell_type": "code",
   "execution_count": 89,
   "id": "40fc22fb",
   "metadata": {},
   "outputs": [
    {
     "data": {
      "text/plain": [
       "0.9801504179384364"
      ]
     },
     "execution_count": 89,
     "metadata": {},
     "output_type": "execute_result"
    }
   ],
   "source": [
    "xgg = xgb.XGBClassifier(n_estimators=100, verbosity=0)\n",
    "xgg.fit(x_smt, y_smt)\n",
    "xgg.score(x_smt, y_smt)"
   ]
  },
  {
   "cell_type": "code",
   "execution_count": 90,
   "id": "9d4f7cde",
   "metadata": {
    "scrolled": true
   },
   "outputs": [],
   "source": [
    "g = roc_auc_score(y_test, xgg.predict_proba(x_test)[:,1])"
   ]
  },
  {
   "cell_type": "code",
   "execution_count": 91,
   "id": "7aaaadce",
   "metadata": {},
   "outputs": [
    {
     "data": {
      "text/plain": [
       "array([1])"
      ]
     },
     "execution_count": 91,
     "metadata": {},
     "output_type": "execute_result"
    }
   ],
   "source": [
    "xgg.predict([[50,8,1,2,1,3,9,260,2,1]])"
   ]
  },
  {
   "cell_type": "code",
   "execution_count": 92,
   "id": "5372ff88",
   "metadata": {
    "scrolled": false
   },
   "outputs": [
    {
     "data": {
      "text/plain": [
       "<AxesSubplot: >"
      ]
     },
     "execution_count": 92,
     "metadata": {},
     "output_type": "execute_result"
    },
    {
     "data": {
      "image/png": "[encoded data removed]",
      "text/plain": [
       "<Figure size 640x480 with 2 Axes>"
      ]
     },
     "metadata": {},
     "output_type": "display_data"
    }
   ],
   "source": [
    "sns.heatmap(confusion_matrix(y_test, xgg.predict(x_test)), annot=True,  fmt='3g', cmap=\"Reds\")"
   ]
  },
  {
   "cell_type": "markdown",
   "id": "af3b43e8",
   "metadata": {},
   "source": [
    "# Model : Ensemble Learning - Voting Classifier "
   ]
  },
  {
   "cell_type": "code",
   "execution_count": 93,
   "id": "3451f049",
   "metadata": {},
   "outputs": [],
   "source": [
    "m1 = LogisticRegression()\n",
    "m2 = tree.DecisionTreeClassifier()\n",
    "m3 = KNeighborsClassifier()\n",
    "m4 = xgb.XGBClassifier(n_estimators=100, verbosity=0)\n",
    "m5 = RandomForestClassifier(n_estimators=100, max_depth=5, max_features=\"sqrt\")\n",
    "m = VotingClassifier(estimators=[(\"lr\",m1),(\"dt\",m2),(\"knn\",m3),(\"xgb\",m4),(\"rf\",m5)], voting=\"soft\")"
   ]
  },
  {
   "cell_type": "code",
   "execution_count": 94,
   "id": "0300a41c",
   "metadata": {},
   "outputs": [
    {
     "data": {
      "text/plain": [
       "0.9911424980549405"
      ]
     },
     "execution_count": 94,
     "metadata": {},
     "output_type": "execute_result"
    }
   ],
   "source": [
    "m.fit(x_smt, y_smt)\n",
    "m.score(x_smt, y_smt)"
   ]
  },
  {
   "cell_type": "code",
   "execution_count": 95,
   "id": "e3d583a6",
   "metadata": {},
   "outputs": [],
   "source": [
    "v = roc_auc_score(y_test, m.predict_proba(x_test)[:,1])"
   ]
  },
  {
   "cell_type": "code",
   "execution_count": 96,
   "id": "af083e90",
   "metadata": {},
   "outputs": [
    {
     "data": {
      "text/plain": [
       "<AxesSubplot: >"
      ]
     },
     "execution_count": 96,
     "metadata": {},
     "output_type": "execute_result"
    },
    {
     "data": {
      "image/png": "[encoded data removed]",
      "text/plain": [
       "<Figure size 640x480 with 2 Axes>"
      ]
     },
     "metadata": {},
     "output_type": "display_data"
    }
   ],
   "source": [
    "sns.heatmap(confusion_matrix(y_test, m.predict(x_test)), annot=True,  fmt='3g', cmap=\"Reds\")"
   ]
  },
  {
   "cell_type": "code",
   "execution_count": 97,
   "id": "bb0d4e97",
   "metadata": {},
   "outputs": [
    {
     "data": {
      "text/html": [
       "<div>\n",
       "<style scoped>\n",
       "    .dataframe tbody tr th:only-of-type {\n",
       "        vertical-align: middle;\n",
       "    }\n",
       "\n",
       "    .dataframe tbody tr th {\n",
       "        vertical-align: top;\n",
       "    }\n",
       "\n",
       "    .dataframe thead th {\n",
       "        text-align: right;\n",
       "    }\n",
       "</style>\n",
       "<table border=\"1\" class=\"dataframe\">\n",
       "  <thead>\n",
       "    <tr style=\"text-align: right;\">\n",
       "      <th></th>\n",
       "      <th>Model</th>\n",
       "      <th>AUROC</th>\n",
       "    </tr>\n",
       "  </thead>\n",
       "  <tbody>\n",
       "    <tr>\n",
       "      <th>0</th>\n",
       "      <td>Logistic Regression</td>\n",
       "      <td>0.869516</td>\n",
       "    </tr>\n",
       "    <tr>\n",
       "      <th>1</th>\n",
       "      <td>KNN</td>\n",
       "      <td>0.813012</td>\n",
       "    </tr>\n",
       "    <tr>\n",
       "      <th>2</th>\n",
       "      <td>Decision Tree</td>\n",
       "      <td>0.799499</td>\n",
       "    </tr>\n",
       "    <tr>\n",
       "      <th>3</th>\n",
       "      <td>Random Forest</td>\n",
       "      <td>0.885704</td>\n",
       "    </tr>\n",
       "    <tr>\n",
       "      <th>4</th>\n",
       "      <td>XGBoost</td>\n",
       "      <td>0.916954</td>\n",
       "    </tr>\n",
       "    <tr>\n",
       "      <th>5</th>\n",
       "      <td>Voting Classifier</td>\n",
       "      <td>0.903275</td>\n",
       "    </tr>\n",
       "  </tbody>\n",
       "</table>\n",
       "</div>"
      ],
      "text/plain": [
       "                 Model     AUROC\n",
       "0  Logistic Regression  0.869516\n",
       "1                  KNN  0.813012\n",
       "2        Decision Tree  0.799499\n",
       "3        Random Forest  0.885704\n",
       "4              XGBoost  0.916954\n",
       "5    Voting Classifier  0.903275"
      ]
     },
     "execution_count": 97,
     "metadata": {},
     "output_type": "execute_result"
    }
   ],
   "source": [
    "pd.DataFrame({\"Model\":[\"Logistic Regression\", \"KNN\",\"Decision Tree\", \"Random Forest\", \"XGBoost\",\"Voting Classifier\"],\"AUROC\":[log,k,d,r,g,v]})"
   ]
  },
  {
   "cell_type": "markdown",
   "id": "1d268cc4",
   "metadata": {},
   "source": [
    "## Hyper Parameter Tuning"
   ]
  },
  {
   "cell_type": "code",
   "execution_count": 98,
   "id": "82023cd1",
   "metadata": {},
   "outputs": [
    {
     "name": "stdout",
     "output_type": "stream",
     "text": [
      "Cross-validation score: 0.9088269539260964 Test score: 0.9133391215107978\n"
     ]
    }
   ],
   "source": [
    "X = df.loc[:, col[:-2]].values\n",
    "Y = df.loc[:, col[-1]].values\n",
    "X_train, X_test, y_train, y_test = train_test_split(X,\n",
    "                                                    y,\n",
    "                                                    test_size=0.25,\n",
    "                                                    stratify=y)\n",
    "pipeline = imbpipeline(steps = [['smoteenn', SMOTEENN()],\n",
    "                               ['classifier', XGBClassifier(learning_rate=0.5, n_estimators=100, verbosity=0)]])\n",
    "stratified_kfold = StratifiedKFold(n_splits=10,\n",
    "                                     shuffle=True)\n",
    "param_grid = {'classifier__C':[0.1, 0.15, 0.2, 0.25, 0.3, 1]}\n",
    "grid_search = GridSearchCV(estimator=pipeline,\n",
    "                           param_grid=param_grid,\n",
    "                           scoring='roc_auc',\n",
    "                           cv=stratified_kfold,\n",
    "                           n_jobs=-1)\n",
    "grid_search.fit(X_train, y_train)\n",
    "cv_score = grid_search.best_score_\n",
    "test_score = grid_search.score(X_test, y_test)\n",
    "print(f'Cross-validation score: {cv_score} Test score: {test_score}')"
   ]
  },
  {
   "cell_type": "code",
   "execution_count": 99,
   "id": "7902cd41",
   "metadata": {
    "scrolled": true
   },
   "outputs": [
    {
     "data": {
      "text/plain": [
       "0.15"
      ]
     },
     "execution_count": 99,
     "metadata": {},
     "output_type": "execute_result"
    }
   ],
   "source": [
    "lr=grid_search.best_params_[\"classifier__C\"]\n",
    "lr"
   ]
  },
  {
   "cell_type": "markdown",
   "id": "6c60d873",
   "metadata": {},
   "source": [
    "## Feature Importances"
   ]
  },
  {
   "cell_type": "code",
   "execution_count": 100,
   "id": "9ddc6464",
   "metadata": {},
   "outputs": [],
   "source": [
    "imp_ft = pd.DataFrame({\"ft\":col[:-2], \"imp\":xgg.feature_importances_})\n",
    "imp_ft.sort_values(\"imp\", ascending=False, inplace=True)"
   ]
  },
  {
   "cell_type": "code",
   "execution_count": 101,
   "id": "b94640a7",
   "metadata": {
    "scrolled": true
   },
   "outputs": [
    {
     "data": {
      "text/plain": [
       "array(['call_type', 'dur', 'mon', 'prev_outcome', 'num_calls'],\n",
       "      dtype=object)"
      ]
     },
     "execution_count": 101,
     "metadata": {},
     "output_type": "execute_result"
    }
   ],
   "source": [
    "imp_ft.iloc[0:5,0].values"
   ]
  },
  {
   "cell_type": "code",
   "execution_count": 102,
   "id": "ae34ca84",
   "metadata": {},
   "outputs": [],
   "source": [
    "x_imp = df.loc[:, imp_ft.iloc[0:5,0]].values\n",
    "y = df.loc[:, col[-1]].values\n",
    "x_train_imp, x_test_imp, y_train, y_test = train_test_split(x_imp, y, test_size=0.25)"
   ]
  },
  {
   "cell_type": "code",
   "execution_count": 103,
   "id": "4e486535",
   "metadata": {},
   "outputs": [],
   "source": [
    "smt = SMOTEENN(sampling_strategy=\"all\")\n",
    "x_smt_imp, y_smt = smt.fit_resample(x_train_imp, y_train)"
   ]
  },
  {
   "cell_type": "code",
   "execution_count": 104,
   "id": "94440190",
   "metadata": {},
   "outputs": [
    {
     "data": {
      "text/plain": [
       "0.4192378409691963"
      ]
     },
     "execution_count": 104,
     "metadata": {},
     "output_type": "execute_result"
    }
   ],
   "source": [
    "df_bal_imp = pd.DataFrame(x_smt_imp, columns= imp_ft.iloc[0:5,0])\n",
    "df_bal_imp[\"y\"] = y_smt\n",
    "len(df_bal_imp[df_bal_imp[\"y\"]==1])/len(df_bal_imp)"
   ]
  },
  {
   "cell_type": "code",
   "execution_count": 105,
   "id": "7406ce30",
   "metadata": {},
   "outputs": [],
   "source": [
    "xg = xgb.XGBClassifier(learning_rate=lr, n_estimators=100, verbosity=0)\n",
    "xg.fit(x_smt_imp, y_smt)\n",
    "g = roc_auc_score(y_test, xg.predict_proba(x_test_imp)[:,1])"
   ]
  },
  {
   "cell_type": "code",
   "execution_count": 106,
   "id": "8f9e2449",
   "metadata": {
    "scrolled": true
   },
   "outputs": [
    {
     "data": {
      "text/plain": [
       "0.886943715646323"
      ]
     },
     "execution_count": 106,
     "metadata": {},
     "output_type": "execute_result"
    }
   ],
   "source": [
    "g"
   ]
  },
  {
   "cell_type": "markdown",
   "id": "5bb49577",
   "metadata": {},
   "source": [
    "## Feature Combinations"
   ]
  },
  {
   "cell_type": "code",
   "execution_count": 107,
   "id": "8c294064",
   "metadata": {},
   "outputs": [],
   "source": [
    "max_roc=[]\n",
    "best_comb=[]"
   ]
  },
  {
   "cell_type": "code",
   "execution_count": 108,
   "id": "996756b5",
   "metadata": {},
   "outputs": [],
   "source": [
    "comb_1 = list(combinations(col[:-2], 1))\n",
    "auc = []\n",
    "for i in comb_1:\n",
    "    x = df.loc[:, i].values\n",
    "    y = df.loc[:, col[-1]].values\n",
    "    x_train, x_test, y_train, y_test = train_test_split(x, y, test_size=0.25)\n",
    "    smt = SMOTEENN(sampling_strategy=\"all\")\n",
    "    x_smt, y_smt = smt.fit_resample(x_train, y_train)\n",
    "    xgg = xgb.XGBClassifier(learning_rate=lr, n_estimators=100, verbosity=0)\n",
    "    xgg.fit(x_smt, y_smt)\n",
    "    g = roc_auc_score(y_test, xgg.predict_proba(x_test)[:,1])\n",
    "    auc.append(g)\n",
    "max_roc.append(max(auc))\n",
    "ind = auc.index(max(auc))\n",
    "best_ft = comb_1[ind]\n",
    "best_comb.append(best_ft)"
   ]
  },
  {
   "cell_type": "code",
   "execution_count": 109,
   "id": "5eb90acf",
   "metadata": {},
   "outputs": [],
   "source": [
    "comb_2 = list(combinations(col[:-2], 2))\n",
    "auc_2 = []\n",
    "for i in comb_2:\n",
    "    x = df.loc[:, i].values\n",
    "    y = df.loc[:, col[-1]].values\n",
    "    x_train, x_test, y_train, y_test = train_test_split(x, y, test_size=0.25)\n",
    "    smt = SMOTEENN(sampling_strategy=\"all\")\n",
    "    x_smt, y_smt = smt.fit_resample(x_train, y_train)\n",
    "    xgg = xgb.XGBClassifier(learning_rate=lr, n_estimators=100, verbosity=0)\n",
    "    xgg.fit(x_smt, y_smt)\n",
    "    g = roc_auc_score(y_test, xgg.predict_proba(x_test)[:,1])\n",
    "    auc_2.append(g)\n",
    "max_roc.append(max(auc_2))\n",
    "ind = auc_2.index(max(auc_2))\n",
    "best_ft = comb_2[ind]\n",
    "best_comb.append(best_ft)"
   ]
  },
  {
   "cell_type": "code",
   "execution_count": 110,
   "id": "1d4b84d1",
   "metadata": {},
   "outputs": [],
   "source": [
    "comb_3 = list(combinations(col[:-2], 3))\n",
    "auc_3 = []\n",
    "for i in comb_3:\n",
    "    x = df.loc[:, i].values\n",
    "    y = df.loc[:, col[-1]].values\n",
    "    x_train, x_test, y_train, y_test = train_test_split(x, y, test_size=0.25)\n",
    "    smt = SMOTEENN(sampling_strategy=\"all\")\n",
    "    x_smt, y_smt = smt.fit_resample(x_train, y_train)\n",
    "    xgg = xgb.XGBClassifier(learning_rate=lr, n_estimators=100, verbosity=0)\n",
    "    xgg.fit(x_smt, y_smt)\n",
    "    g = roc_auc_score(y_test, xgg.predict_proba(x_test)[:,1])\n",
    "    auc_3.append(g)\n",
    "max_roc.append(max(auc_3))\n",
    "ind = auc_3.index(max(auc_3))\n",
    "best_ft = comb_3[ind]\n",
    "best_comb.append(best_ft)"
   ]
  },
  {
   "cell_type": "code",
   "execution_count": 111,
   "id": "44163f26",
   "metadata": {},
   "outputs": [],
   "source": [
    "comb_4 = list(combinations(col[:-2], 4))\n",
    "auc_4 = []\n",
    "for i in comb_4:\n",
    "    x = df.loc[:, i].values\n",
    "    y = df.loc[:, col[-1]].values\n",
    "    x_train, x_test, y_train, y_test = train_test_split(x, y, test_size=0.25)\n",
    "    smt = SMOTEENN(sampling_strategy=\"all\")\n",
    "    x_smt, y_smt = smt.fit_resample(x_train, y_train)\n",
    "    xgg = xgb.XGBClassifier(learning_rate=lr, n_estimators=100, verbosity=0)\n",
    "    xgg.fit(x_smt, y_smt)\n",
    "    g = roc_auc_score(y_test, xgg.predict_proba(x_test)[:,1])\n",
    "    auc_4.append(g)\n",
    "max_roc.append(max(auc_4))\n",
    "ind = auc_4.index(max(auc_4))\n",
    "best_ft = comb_4[ind]\n",
    "best_comb.append(best_ft)"
   ]
  },
  {
   "cell_type": "code",
   "execution_count": 112,
   "id": "78616eb0",
   "metadata": {},
   "outputs": [],
   "source": [
    "comb_5 = list(combinations(col[:-2], 5))\n",
    "auc_5 = []\n",
    "for i in comb_5:\n",
    "    x = df.loc[:, i].values\n",
    "    y = df.loc[:, col[-1]].values\n",
    "    x_train, x_test, y_train, y_test = train_test_split(x, y, test_size=0.25)\n",
    "    smt = SMOTEENN(sampling_strategy=\"all\")\n",
    "    x_smt, y_smt = smt.fit_resample(x_train, y_train)\n",
    "    xgg = xgb.XGBClassifier(learning_rate=lr, n_estimators=100, verbosity=0)\n",
    "    xgg.fit(x_smt, y_smt)\n",
    "    g = roc_auc_score(y_test, xgg.predict_proba(x_test)[:,1])\n",
    "    auc_5.append(g)\n",
    "max_roc.append(max(auc_5))\n",
    "ind = auc_5.index(max(auc_5))\n",
    "best_ft = comb_5[ind]\n",
    "best_comb.append(best_ft)"
   ]
  },
  {
   "cell_type": "code",
   "execution_count": 113,
   "id": "89a20d38",
   "metadata": {},
   "outputs": [],
   "source": [
    "comb_6 = list(combinations(col[:-2], 6))\n",
    "auc_6 = []\n",
    "for i in comb_6:\n",
    "    x = df.loc[:, i].values\n",
    "    y = df.loc[:, col[-1]].values\n",
    "    x_train, x_test, y_train, y_test = train_test_split(x, y, test_size=0.25)\n",
    "    smt = SMOTEENN(sampling_strategy=\"all\")\n",
    "    x_smt, y_smt = smt.fit_resample(x_train, y_train)\n",
    "    xgg = xgb.XGBClassifier(learning_rate=lr, n_estimators=100, verbosity=0)\n",
    "    xgg.fit(x_smt, y_smt)\n",
    "    g = roc_auc_score(y_test, xgg.predict_proba(x_test)[:,1])\n",
    "    auc_6.append(g)\n",
    "max_roc.append(max(auc_6))\n",
    "ind = auc_6.index(max(auc_6))\n",
    "best_ft = comb_6[ind]\n",
    "best_comb.append(best_ft)"
   ]
  },
  {
   "cell_type": "code",
   "execution_count": 114,
   "id": "74864a87",
   "metadata": {},
   "outputs": [],
   "source": [
    "comb_7 = list(combinations(col[:-2], 7))\n",
    "auc_7 = []\n",
    "for i in comb_7:\n",
    "    x = df.loc[:, i].values\n",
    "    y = df.loc[:, col[-1]].values\n",
    "    x_train, x_test, y_train, y_test = train_test_split(x, y, test_size=0.25)\n",
    "    smt = SMOTEENN(sampling_strategy=\"all\")\n",
    "    x_smt, y_smt = smt.fit_resample(x_train, y_train)\n",
    "    xgg = xgb.XGBClassifier(learning_rate=lr, n_estimators=100, verbosity=0)\n",
    "    xgg.fit(x_smt, y_smt)\n",
    "    g = roc_auc_score(y_test, xgg.predict_proba(x_test)[:,1])\n",
    "    auc_7.append(g)\n",
    "max_roc.append(max(auc_7))\n",
    "ind = auc_7.index(max(auc_7))\n",
    "best_ft = comb_7[ind]\n",
    "best_comb.append(best_ft)"
   ]
  },
  {
   "cell_type": "code",
   "execution_count": 115,
   "id": "4a512c86",
   "metadata": {},
   "outputs": [],
   "source": [
    "comb_8 = list(combinations(col[:-2], 8))\n",
    "auc_8 = []\n",
    "for i in comb_8:\n",
    "    x = df.loc[:, i].values\n",
    "    y = df.loc[:, col[-1]].values\n",
    "    x_train, x_test, y_train, y_test = train_test_split(x, y, test_size=0.25)\n",
    "    smt = SMOTEENN(sampling_strategy=\"all\")\n",
    "    x_smt, y_smt = smt.fit_resample(x_train, y_train)\n",
    "    xgg = xgb.XGBClassifier(learning_rate=lr, n_estimators=100, verbosity=0)\n",
    "    xgg.fit(x_smt, y_smt)\n",
    "    g = roc_auc_score(y_test, xgg.predict_proba(x_test)[:,1])\n",
    "    auc_8.append(g)\n",
    "max_roc.append(max(auc_8))\n",
    "ind = auc_8.index(max(auc_8))\n",
    "best_ft = comb_8[ind]\n",
    "best_comb.append(best_ft)"
   ]
  },
  {
   "cell_type": "code",
   "execution_count": 116,
   "id": "e69125b6",
   "metadata": {},
   "outputs": [],
   "source": [
    "comb_9 = list(combinations(col[:-2], 9))\n",
    "auc_9 = []\n",
    "for i in comb_9:\n",
    "    x = df.loc[:, i].values\n",
    "    y = df.loc[:, col[-1]].values\n",
    "    x_train, x_test, y_train, y_test = train_test_split(x, y, test_size=0.25)\n",
    "    smt = SMOTEENN(sampling_strategy=\"all\")\n",
    "    x_smt, y_smt = smt.fit_resample(x_train, y_train)\n",
    "    xgg = xgb.XGBClassifier(learning_rate=lr, n_estimators=100, verbosity=0)\n",
    "    xgg.fit(x_smt, y_smt)\n",
    "    g = roc_auc_score(y_test, xgg.predict_proba(x_test)[:,1])\n",
    "    auc_9.append(g)\n",
    "max_roc.append(max(auc_9))\n",
    "ind = auc_9.index(max(auc_9))\n",
    "best_ft = comb_9[ind]\n",
    "best_comb.append(best_ft)"
   ]
  },
  {
   "cell_type": "code",
   "execution_count": 117,
   "id": "d0bd7f12",
   "metadata": {},
   "outputs": [
    {
     "data": {
      "text/plain": [
       "['marital', 'call_type', 'day', 'mon', 'dur', 'num_calls', 'prev_outcome']"
      ]
     },
     "execution_count": 117,
     "metadata": {},
     "output_type": "execute_result"
    }
   ],
   "source": [
    "ind = max_roc.index(max(max_roc))\n",
    "best_ft = [*best_comb[ind]]\n",
    "best_ft"
   ]
  },
  {
   "cell_type": "code",
   "execution_count": 118,
   "id": "334bcd77",
   "metadata": {},
   "outputs": [
    {
     "data": {
      "text/plain": [
       "[0.713568431578825,\n",
       " 0.8193648025631514,\n",
       " 0.8868228522258433,\n",
       " 0.8982096121485064,\n",
       " 0.9119725785647925,\n",
       " 0.9206844706442777,\n",
       " 0.9243371018670576,\n",
       " 0.9186022531678018,\n",
       " 0.9193297123534014]"
      ]
     },
     "execution_count": 118,
     "metadata": {},
     "output_type": "execute_result"
    }
   ],
   "source": [
    "max_roc"
   ]
  },
  {
   "cell_type": "markdown",
   "id": "bc8c8596",
   "metadata": {},
   "source": [
    "## Fitting the Best Model "
   ]
  },
  {
   "cell_type": "code",
   "execution_count": 119,
   "id": "2894f00b",
   "metadata": {},
   "outputs": [
    {
     "name": "stdout",
     "output_type": "stream",
     "text": [
      "0.9186187998620268\n"
     ]
    }
   ],
   "source": [
    "x = df.loc[:, best_ft].values\n",
    "y = df.loc[:, col[-1]].values\n",
    "x_train, x_test, y_train, y_test = train_test_split(x, y, test_size=0.25)\n",
    "smt = SMOTEENN(sampling_strategy=\"all\")\n",
    "x_smt, y_smt = smt.fit_resample(x_train, y_train)\n",
    "xgg_b = xgb.XGBClassifier(learning_rate=lr, n_estimators=100, verbosity=0)\n",
    "xgg_b.fit(x_smt, y_smt)\n",
    "g_b = roc_auc_score(y_test, xgg_b.predict_proba(x_test)[:,1])\n",
    "print(g_b)"
   ]
  },
  {
   "cell_type": "code",
   "execution_count": 120,
   "id": "6aa7a3f7",
   "metadata": {},
   "outputs": [
    {
     "data": {
      "text/plain": [
       "0.9243371018670576"
      ]
     },
     "execution_count": 120,
     "metadata": {},
     "output_type": "execute_result"
    }
   ],
   "source": [
    "max(max_roc)"
   ]
  },
  {
   "cell_type": "markdown",
   "id": "581e15e9",
   "metadata": {},
   "source": [
    "### Result"
   ]
  },
  {
   "cell_type": "markdown",
   "id": "ec5a487c",
   "metadata": {},
   "source": [
    "I have witnessed that the combination of ['marital', 'call_type', 'day', 'mon', 'dur', 'num_calls', 'prev_outcome'] as the best feature combination which yields around 0.92 AUROC score."
   ]
  },
  {
   "cell_type": "markdown",
   "id": "985f71fa",
   "metadata": {},
   "source": [
    "## Model Deployment"
   ]
  },
  {
   "cell_type": "code",
   "execution_count": 121,
   "id": "521d7fbc",
   "metadata": {},
   "outputs": [],
   "source": [
    "pickle_file = open(\"Cust_Conv_Pred.pkl\",\"wb\")\n",
    "pickle.dump(xgg_b, pickle_file)\n",
    "pickle_file.close()"
   ]
  },
  {
   "cell_type": "code",
   "execution_count": 122,
   "id": "78b24c25",
   "metadata": {},
   "outputs": [],
   "source": [
    "pickle_open = open(\"Cust_Conv_Pred.pkl\",\"rb\")\n",
    "p_xg=pickle.load(pickle_open)"
   ]
  },
  {
   "cell_type": "markdown",
   "id": "31c2948b",
   "metadata": {},
   "source": [
    "### Suggestions"
   ]
  },
  {
   "cell_type": "markdown",
   "id": "f70ab77e",
   "metadata": {},
   "source": [
    "1. Target customer for this product is \"Students\", because their conversion ratio is quite higher. Rather than targetting people with \"Blue-Collar\" job title which has lesser conversion rate and the attempts made are huge.\n",
    "\n",
    "2. Likewise, people who are \"Single\" also has good conversion rate than other categories.\n",
    "\n",
    "3. Also, March month has huge conversion rate. Targetting people actively in march month will be huge success for the company."
   ]
  }
 ],
 "metadata": {
  "kernelspec": {
   "display_name": "pandas_venv",
   "language": "python",
   "name": "pandas_venv"
  },
  "language_info": {
   "codemirror_mode": {
    "name": "ipython",
    "version": 3
   },
   "file_extension": ".py",
   "mimetype": "text/x-python",
   "name": "python",
   "nbconvert_exporter": "python",
   "pygments_lexer": "ipython3",
   "version": "3.10.7"
  }
 },
 "nbformat": 4,
 "nbformat_minor": 5
}
